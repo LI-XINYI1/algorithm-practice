{
 "cells": [
  {
   "attachments": {},
   "cell_type": "markdown",
   "metadata": {},
   "source": [
    "4.1 lc-daily binary search"
   ]
  },
  {
   "cell_type": "code",
   "execution_count": null,
   "metadata": {},
   "outputs": [],
   "source": [
    "class Solution:\n",
    "    def search(self, nums: List[int], target: int) -> int:\n",
    "        \n",
    "        #left right\n",
    "        l = 0\n",
    "        r = len(nums)-1 \n",
    "\n",
    "        while l<=r:\n",
    "            mid = l + ((r-l)>>1) \n",
    "            # 防止l+r超过范围\n",
    "            # >>1要加括号，>>计算符优先级低于+\n",
    "            #mid = (l+r)//2\n",
    "            if nums[mid]==target:\n",
    "                return mid\n",
    "            elif nums[mid]<target:\n",
    "                l = mid+1\n",
    "            else:\n",
    "                r = mid-1\n",
    "        \n",
    "        return -1"
   ]
  }
 ],
 "metadata": {
  "language_info": {
   "name": "python"
  },
  "orig_nbformat": 4
 },
 "nbformat": 4,
 "nbformat_minor": 2
}
