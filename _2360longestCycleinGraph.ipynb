{
 "cells": [
  {
   "attachments": {},
   "cell_type": "markdown",
   "metadata": {},
   "source": [
    "3.26 graph-DFS-longestCyclePath"
   ]
  },
  {
   "cell_type": "code",
   "execution_count": null,
   "metadata": {},
   "outputs": [],
   "source": [
    "#dfs  后序？？？  recursion\n",
    "class Solution:\n",
    "    def longestCycle(self, edges: List[int]) -> int:\n",
    "\n",
    "        n = len(edges)\n",
    "        visited = [False]*n\n",
    "        ranks = [float('inf')] *n\n",
    "\n",
    "        def dfs(node,rank):\n",
    "            # visited, alr calculated in cycle, skip\n",
    "            if visited[node]:\n",
    "                return -1\n",
    "            # outdegree=0, not cycle, skip\n",
    "            if edges[node] == -1:\n",
    "                return -1\n",
    "            \n",
    "            #If the rank of a node is less than the current rank, \n",
    "            #it means that the node is part of a cycle \n",
    "            #calculate the length of the cycle by \n",
    "            #subtracting the ranks of the nodes at the beginning and end of the cycle.\n",
    "            if ranks[node] < rank:\n",
    "                return rank-ranks[node]\n",
    "            #if not (rank[node] = 'inf')\n",
    "            else:\n",
    "                ranks[node] = rank\n",
    "                cyc_len = dfs(edges[node],rank+1)\n",
    "                #visited status is changed after calclulation\n",
    "                visited[node] = True\n",
    "                return cyc_len\n",
    "\n",
    "\n",
    "        longest_cycle = -1\n",
    "        for node in range(n):\n",
    "            cycle_length = dfs(node,0)\n",
    "            if cycle_length >0:\n",
    "                longest_cycle = max(longest_cycle,cycle_length)\n",
    "        return longest_cycle"
   ]
  },
  {
   "cell_type": "code",
   "execution_count": null,
   "metadata": {},
   "outputs": [],
   "source": [
    "### dfs  先序  iteration\n",
    "class Solution_iteration:\n",
    "  def longestCycle(self, edges: List[int]) -> int:\n",
    "    ans = -1  # Initialize the answer to -1\n",
    "    time = 1  # Initialize the current time step to 1\n",
    "    timeVisited = [0] * len(edges)  # Initialize a list to store the time at which each node was first visited\n",
    "\n",
    "    # Iterate through each node in the graph\n",
    "    for i, edge in enumerate(edges):\n",
    "      if timeVisited[i]:  # If the node has already been visited, skip it\n",
    "        continue\n",
    "      else:\n",
    "        startTime = time  # Record the start time of the current traversal\n",
    "        u = i  # Initialize the current node to the ith node\n",
    "        # Traverse the graph until the end of the path is reached or a visited node is encountered\n",
    "        while u != -1 and not timeVisited[u]:\n",
    "          timeVisited[u] = time  # Record the current time step\n",
    "          time += 1  # Increment time\n",
    "          u = edges[u]  # Move to the next node in the path\n",
    "        # If a cycle is found that includes the current node, update the answer\n",
    "        if u != -1 and timeVisited[u] >= startTime:\n",
    "          ans = max(ans, time - timeVisited[u])\n",
    "\n",
    "    return ans  # Return the length of the longest cycle found"
   ]
  },
  {
   "cell_type": "code",
   "execution_count": null,
   "metadata": {},
   "outputs": [],
   "source": []
  },
  {
   "cell_type": "code",
   "execution_count": null,
   "metadata": {},
   "outputs": [],
   "source": []
  },
  {
   "attachments": {
    "image-2.png": {
     "image/png": "[encoded data removed]"
    },
    "image.png": {
     "image/png": "[encoded data removed]"
    }
   },
   "cell_type": "markdown",
   "metadata": {},
   "source": [
    "You are given a directed graph of n nodes numbered from 0 to n - 1, where each node has at most one outgoing edge.\n",
    "\n",
    "The graph is represented with a given 0-indexed array edges of size n, indicating that there is a directed edge from node i to node edges[i]. If there is no outgoing edge from node i, then edges[i] == -1.\n",
    "\n",
    "Return the length of the longest cycle in the graph. If no cycle exists, return -1.\n",
    "\n",
    "A cycle is a path that starts and ends at the same node.\n",
    "\n",
    " \n",
    "\n",
    "Example 1:\n",
    "![image.png](attachment:image.png) </br>\n",
    "\n",
    "Input: edges = [3,3,4,2,3]\n",
    "Output: 3\n",
    "Explanation: The longest cycle in the graph is the cycle: 2 -> 4 -> 3 -> 2.\n",
    "The length of this cycle is 3, so 3 is returned.\n",
    "\n",
    "\n",
    "Example 2:\n",
    "![image.png](attachment:image-2.png) </br>\n",
    "\n",
    "Input: edges = [2,-1,3,1]\n",
    "Output: -1\n",
    "Explanation: There are no cycles in this graph.\n",
    " \n",
    "\n",
    "Constraints:\n",
    "\n",
    "n == edges.length\n",
    "2 <= n <= 105\n",
    "-1 <= edges[i] < n\n",
    "edges[i] != i"
   ]
  },
  {
   "cell_type": "markdown",
   "metadata": {},
   "source": []
  }
 ],
 "metadata": {
  "language_info": {
   "name": "python"
  },
  "orig_nbformat": 4
 },
 "nbformat": 4,
 "nbformat_minor": 2
}
