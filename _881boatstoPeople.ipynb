{
 "cells": [
  {
   "attachments": {},
   "cell_type": "markdown",
   "metadata": {},
   "source": [
    "4.3 lcdaily 2pointers"
   ]
  },
  {
   "cell_type": "code",
   "execution_count": null,
   "metadata": {},
   "outputs": [],
   "source": [
    "class Solution:\n",
    "    def numRescueBoats(self, people: List[int], limit: int) -> int:\n",
    "        people.sort()\n",
    "        count = 0\n",
    "        left = 0\n",
    "        right = len(people)-1\n",
    "        while left<=right:\n",
    "            if people[left]+people[right] <= limit:\n",
    "                left += 1\n",
    "                right -= 1\n",
    "            else:\n",
    "                right -= 1\n",
    "            count += 1\n",
    "        return count"
   ]
  }
 ],
 "metadata": {
  "language_info": {
   "name": "python"
  },
  "orig_nbformat": 4
 },
 "nbformat": 4,
 "nbformat_minor": 2
}
