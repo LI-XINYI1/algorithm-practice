{
 "cells": [
  {
   "attachments": {},
   "cell_type": "markdown",
   "metadata": {},
   "source": [
    "4.4 lcdaily "
   ]
  },
  {
   "cell_type": "code",
   "execution_count": null,
   "metadata": {},
   "outputs": [],
   "source": [
    "class Solution:\n",
    "    def partitionString(self, s: str) -> int:\n",
    "        ans = 1\n",
    "        hash = []\n",
    "        for i in s:\n",
    "            if i in hash:\n",
    "                hash = [i]\n",
    "                ans += 1\n",
    "            else:\n",
    "                hash.append(i)\n",
    "        return ans"
   ]
  }
 ],
 "metadata": {
  "language_info": {
   "name": "python"
  },
  "orig_nbformat": 4
 },
 "nbformat": 4,
 "nbformat_minor": 2
}
