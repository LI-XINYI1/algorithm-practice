{
 "cells": [
  {
   "cell_type": "markdown",
   "metadata": {},
   "source": [
    "有N件物品和一个最多能背重量为W的背包。  \n",
    "第i件物品的重量是weight[i]，得到的价值是value[i] 。  \n",
    "每件物品都有无限个（也就是可以放入背包多次）"
   ]
  },
  {
   "cell_type": "code",
   "execution_count": 1,
   "metadata": {},
   "outputs": [],
   "source": [
    "from typing import List"
   ]
  },
  {
   "cell_type": "code",
   "execution_count": 5,
   "metadata": {},
   "outputs": [],
   "source": [
    "weight = []\n",
    "value = []\n",
    "bag_size = 999\n",
    "\n",
    "dp =[]\n",
    "\n",
    "#01背包核心代码\n",
    "for i in range(len(weight)): # 遍历物品，外层\n",
    "    for j in range(bag_size, weight[i]-1, i): #遍历背包容量，内层\n",
    "        #01背包内嵌的循环是从大到小遍历，为了保证每个物品仅被添加一次。\n",
    "        dp[j] = max(dp[j], dp[j - weight[i]] + value[i])\n",
    "\n",
    "#完全背包物品无限次：\n",
    "# 1. 先遍历物品，再遍历背包\n",
    "for i in range(len(weight)):\n",
    "    for j in range(weight[i], bag_size + 1):\n",
    "        #从小到大\n",
    "        dp[j] = max(dp[j], dp[j - weight[i]] + value[i])\n",
    "# 2. 先遍历背包，再遍历物品\n",
    "for j in range(bag_size + 1):\n",
    "    for i in range(len(weight)): #循环起点： 仅背包能装下当前物品时 \n",
    "        if j>=weight[i]:    \n",
    "            dp[j] = max(dp[j], dp[j - weight[i]] + value[i])"
   ]
  },
  {
   "cell_type": "markdown",
   "metadata": {},
   "source": [
    "### 19-change-518\n",
    "\n",
    "可凑成总金额的组合数量！！！  \n",
    "    组合不强调元素之间的顺序，  \n",
    "    排列强调元素之间的顺序。   \n",
    "<br>\n",
    "求装满背包有几种方法，一般公式都是：dp[j] += dp[j - nums[i]];\n",
    "本题： 和凑成总和的元素有没有顺序没关系  \n",
    "即：有顺序也行，没有顺序也行！  \n",
    "\n",
    "### 方案个数，且每个方案个数是为组合数\n",
    "\n",
    "![内外循环影响](完全背包-零钱-组合数-内外循环影响.png)\n"
   ]
  },
  {
   "cell_type": "code",
   "execution_count": 6,
   "metadata": {},
   "outputs": [],
   "source": [
    "# 19-changeII-518\n",
    "class Solution:\n",
    "    def change(self, amount: int, coins: List[int]) -> int:\n",
    "        dp = [0]*(amount+1)\n",
    "        dp[0] = 1\n",
    "        for i in range(len(coins)): #object\n",
    "            for j in range(coins[i],amount+1): #bagsize\n",
    "                dp[j] += dp[j-coins[i]]\n",
    "        return dp[amount]"
   ]
  },
  {
   "cell_type": "code",
   "execution_count": 7,
   "metadata": {},
   "outputs": [],
   "source": [
    "#21combinationSum-377\n",
    "class Solution:\n",
    "    def combinationSum4(self, nums:List[int], target:int)->int:\n",
    "        # 1. 完全背包，无限个\n",
    "        # 2. 排列，顺序matters\n",
    "        # dp[i] def: num of collections with sum of i\n",
    "        # dp[i] += dp[i-nums[i]]\n",
    "        # init: dp[0] = 1\n",
    "        dp = [0]*(target+1)\n",
    "        dp[0] = 1\n",
    "        #排列!!!!!!!!\n",
    "        for j in range(target+1): #外层-背包容量\n",
    "            for i in range(len(nums)): #内层-物品\n",
    "                if j >= nums[i]:\n",
    "                    dp[j] += dp[j-nums[i]]\n",
    "        return dp[target]"
   ]
  },
  {
   "cell_type": "code",
   "execution_count": 8,
   "metadata": {},
   "outputs": [],
   "source": [
    "#22climbStairs-70\n",
    "class Solution:\n",
    "    def climbStairs(self, n: int) -> int:\n",
    "        #1. 完全背包，无限\n",
    "        #2. 排列，顺序重要\n",
    "        dp = [0]*(n+1)\n",
    "        dp[0] = 1\n",
    "        for j in range(n+1):\n",
    "            for i in [1,2]:\n",
    "                if j>=i:\n",
    "                    dp[j] += dp[j-i]\n",
    "        return dp[-1]"
   ]
  },
  {
   "cell_type": "code",
   "execution_count": 9,
   "metadata": {},
   "outputs": [],
   "source": [
    "#23change-322\n",
    "class Solution:\n",
    "    def coinChange(self, coins: List[int], amount: int) -> int:\n",
    "        # 最少，若无，返回-1\n",
    "        #1. 完全背包，无限\n",
    "        #2. 组合\n",
    "        #   但是求最小，所以内外循环不重要！\n",
    "               \n",
    "        #dp[i] def: min num of coins with sum of i\n",
    "        #dp[i] = min(dp[i],dp[i-coins[j]]+1)\n",
    "        \n",
    "        dp = [amount+1]*(amount+1)\n",
    "        dp[0] = 0\n",
    "        \n",
    "        for i in range(len(coins)):\n",
    "            for j in range(coins[i],amount+1):\n",
    "                dp[j] = min(dp[j],dp[j-coins[i]]+1)\n",
    "        \n",
    "        rlt = dp[amount]\n",
    "        if rlt == 10001:\n",
    "            return -1\n",
    "        else:\n",
    "            return rlt\n",
    "\n",
    "#24几乎一样"
   ]
  },
  {
   "cell_type": "markdown",
   "metadata": {},
   "source": [
    "# 26-139-单词拆分\n",
    "注意内外层循环含义的区别！！！"
   ]
  },
  {
   "cell_type": "code",
   "execution_count": null,
   "metadata": {},
   "outputs": [],
   "source": [
    "#26 - 139\n",
    "class Solution:\n",
    "    def wordBreak(self, s: str, wordDict: List[str]) -> bool:\n",
    "        #字典单词可以重复使用：完全背包\n",
    "        #组合： 顺序不影响 +字典单词无重复\n",
    "        #只判断能否，所以内外循环不重要\n",
    "        \n",
    "        #dp[i] whether words in dic can form s[:i+1] - true/false\n",
    "        #dp[i] = true: keep true\n",
    "        #      else: if dp[i-len(cur_word)]+cur_word == s[:i]: dp[i] = true\n",
    "                        \n",
    "        dp = [False]*(len(s)+1)\n",
    "        dp[0] = True\n",
    "        \n",
    "        # for word in wordDict: #外层：物品\n",
    "        #     for j in range(len(word),len(s)+1): #内层：背包\n",
    "        # 不对滴！物品word应该可以重复使用/在s后面再次使用的\n",
    "        #         dp[j] = dp[j] or (dp[j-len(word)] and word == s[j-len(word):j])\n",
    "        \n",
    "        for j in range(1, len(s) + 1): # 遍历背包\n",
    "            for word in wordDict: # 遍历单词\n",
    "                if j >= len(word):\n",
    "                    dp[j] = dp[j] or (dp[j - len(word)] and word == s[j - len(word):j])\n",
    "        \n",
    "        return dp[-1]\n",
    "        "
   ]
  }
 ],
 "metadata": {
  "kernelspec": {
   "display_name": "Python 3.9.12 ('pyenv')",
   "language": "python",
   "name": "python3"
  },
  "language_info": {
   "codemirror_mode": {
    "name": "ipython",
    "version": 3
   },
   "file_extension": ".py",
   "mimetype": "text/x-python",
   "name": "python",
   "nbconvert_exporter": "python",
   "pygments_lexer": "ipython3",
   "version": "3.9.12"
  },
  "orig_nbformat": 4,
  "vscode": {
   "interpreter": {
    "hash": "60df5f9251d5060479ea0310e3190655ffb5fe80a3d85720ea8dd26d80e72672"
   }
  }
 },
 "nbformat": 4,
 "nbformat_minor": 2
}
