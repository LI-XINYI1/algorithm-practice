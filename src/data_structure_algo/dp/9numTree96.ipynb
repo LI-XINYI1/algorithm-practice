{
 "cells": [
  {
   "cell_type": "code",
   "execution_count": null,
   "metadata": {},
   "outputs": [],
   "source": []
  },
  {
   "cell_type": "markdown",
   "metadata": {},
   "source": [
    "二叉搜索树是一个有序树：\n",
    "\n",
    "    若它的左子树不空，则左子树上所有结点的值均小于它的根结点的值；\n",
    "    若它的右子树不空，则右子树上所有结点的值均大于它的根结点的值；\n",
    "    它的左、右子树也分别为二叉搜索树"
   ]
  },
  {
   "cell_type": "markdown",
   "metadata": {},
   "source": [
    "1. dp[i] = num of bi-search-tree with ith nodes\n",
    "\n",
    "2. formula:\n",
    "    dp[i] += dp[j]*dp[i-1-j] 0<=j<i  \n",
    "    **分析过程!!!**  \n",
    "    j < i: 因为二叉搜索树左子树 所有 节点值  均 小于 root\n",
    "    \n",
    "3. initialization: \n",
    "    dp[0] = 1( if = 0, then 0*any = 0)\n",
    "    dp[1] = 1\n",
    "\n",
    "4. sequence: 0->n"
   ]
  },
  {
   "cell_type": "code",
   "execution_count": 5,
   "metadata": {},
   "outputs": [],
   "source": [
    "class Solution:\n",
    "    def numTree(self,n:int)->int:\n",
    "        dp = [0]*(n+1)\n",
    "        dp[0], dp[1] = 1,1\n",
    "        for i in range(2,n+1):\n",
    "            for j in range(0,i):\n",
    "                dp[i] += dp[j]*dp[i-1-j]\n",
    "        return dp[n]"
   ]
  },
  {
   "cell_type": "code",
   "execution_count": 6,
   "metadata": {},
   "outputs": [
    {
     "name": "stdout",
     "output_type": "stream",
     "text": [
      "5\n"
     ]
    }
   ],
   "source": [
    "instance = Solution()\n",
    "print(instance.numTree(3))"
   ]
  },
  {
   "cell_type": "code",
   "execution_count": null,
   "metadata": {},
   "outputs": [],
   "source": []
  }
 ],
 "metadata": {
  "kernelspec": {
   "display_name": "Python 3.9.12 ('pyenv')",
   "language": "python",
   "name": "python3"
  },
  "language_info": {
   "codemirror_mode": {
    "name": "ipython",
    "version": 3
   },
   "file_extension": ".py",
   "mimetype": "text/x-python",
   "name": "python",
   "nbconvert_exporter": "python",
   "pygments_lexer": "ipython3",
   "version": "3.9.12"
  },
  "orig_nbformat": 4,
  "vscode": {
   "interpreter": {
    "hash": "60df5f9251d5060479ea0310e3190655ffb5fe80a3d85720ea8dd26d80e72672"
   }
  }
 },
 "nbformat": 4,
 "nbformat_minor": 2
}
