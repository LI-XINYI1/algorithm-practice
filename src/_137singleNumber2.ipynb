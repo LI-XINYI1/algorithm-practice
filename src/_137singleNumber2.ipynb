{
 "cells": [
  {
   "cell_type": "code",
   "execution_count": null,
   "metadata": {},
   "outputs": [],
   "source": [
    "class Solution:\n",
    "\n",
    "    # bit manipulation\n",
    "    def singleNumber(self, nums: List[int]) -> int:\n",
    "        ans = 0\n",
    "        for i in range(32):\n",
    "            bit_sum = 0\n",
    "            for num in nums:\n",
    "                # negative:  number to two's complement\n",
    "                if num < 0:\n",
    "                    num = num & (2**32-1)\n",
    "                bit_sum += (num >> i) & 1\n",
    "            bit_sum %= 3\n",
    "            ans |= bit_sum << i\n",
    "\n",
    "        # Convert the result back to two's complement representation if it's negative to handle large test case\n",
    "        if ans >= 2**31:\n",
    "            ans = ans - 2**32\n",
    "\n",
    "        return ans\n",
    "    \n",
    "\n",
    "    # brute force\n",
    "    def singleNumber_bf(self, nums: List[int]) -> int:\n",
    "        count = defaultdict(int)\n",
    "        for x in nums:\n",
    "            count[x] += 1\n",
    "        for x, freq in count.items():\n",
    "            if freq == 1:\n",
    "                return x\n",
    "        return -1"
   ]
  },
  {
   "cell_type": "code",
   "execution_count": null,
   "metadata": {},
   "outputs": [],
   "source": [
    "def twos_comp(val, bits):\n",
    "    \"\"\"compute the 2's complement of int value val\"\"\"\n",
    "    if (val & (1 << (bits - 1))) != 0: # if sign bit is set e.g., 8bit: 128-255\n",
    "        val = val - (1 << bits)        # compute negative value\n",
    "    return val                         # return positive value as is\n",
    "\n",
    "def twos_comp(val, bits):\n",
    "    if num < 0:\n",
    "        num = num & (2**32-1)\n",
    "    return num"
   ]
  },
  {
   "cell_type": "code",
   "execution_count": null,
   "metadata": {},
   "outputs": [],
   "source": [
    "# #Java\n",
    "# class Solution {\n",
    "#     public int singleNumber(int[] nums) {\n",
    "#         Map<Integer, Integer> map = new HashMap<>();\n",
    "        \n",
    "#         for (int x : nums) {\n",
    "#             map.put(x, map.getOrDefault(x, 0) + 1);\n",
    "#         }\n",
    "\n",
    "#         for (Map.Entry<Integer, Integer> entry : map.entrySet()) {\n",
    "#             if (entry.getValue() == 1) {\n",
    "#                 return entry.getKey();\n",
    "#             }\n",
    "#         }\n",
    "        \n",
    "#         return -1;\n",
    "#     }\n",
    "# }"
   ]
  },
  {
   "cell_type": "code",
   "execution_count": null,
   "metadata": {},
   "outputs": [],
   "source": []
  },
  {
   "attachments": {},
   "cell_type": "markdown",
   "metadata": {},
   "source": [
    "137. Single Number II\n",
    "Medium\n",
    "6.5K\n",
    "589\n",
    "Companies\n",
    "Given an integer array nums where every element appears three times except for one, which appears exactly once. Find the single element and return it.\n",
    "\n",
    "You must implement a solution with a linear runtime complexity and use only constant extra space.\n",
    "\n",
    " \n",
    "\n",
    "Example 1:\n",
    "\n",
    "Input: nums = [2,2,3,2]\n",
    "Output: 3\n",
    "Example 2:\n",
    "\n",
    "Input: nums = [0,1,0,1,0,1,99]\n",
    "Output: 99\n",
    " \n",
    "\n",
    "Constraints:\n",
    "\n",
    "1 <= nums.length <= 3 * 104\n",
    "-231 <= nums[i] <= 231 - 1\n",
    "Each element in nums appears exactly three times except for one element which appears once."
   ]
  }
 ],
 "metadata": {
  "language_info": {
   "name": "python"
  },
  "orig_nbformat": 4
 },
 "nbformat": 4,
 "nbformat_minor": 2
}
