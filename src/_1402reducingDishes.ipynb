{
 "cells": [
  {
   "attachments": {},
   "cell_type": "markdown",
   "metadata": {},
   "source": [
    "lc-daily dp / 前缀和"
   ]
  },
  {
   "cell_type": "code",
   "execution_count": 1,
   "metadata": {},
   "outputs": [],
   "source": [
    "from typing import List"
   ]
  },
  {
   "cell_type": "code",
   "execution_count": null,
   "metadata": {},
   "outputs": [],
   "source": [
    "#prefix sum\n",
    "class Solution:\n",
    "    def maxSatisfaction(self, satisfaction: List[int]) -> int:\n",
    "        sort_sats = sorted(satisfaction,reverse=True) #descreasing order\n",
    "        presum = 0\n",
    "        ans = 0\n",
    "        for sat in sort_sats:\n",
    "            if presum+sat >0:\n",
    "                ans += presum+sat\n",
    "                presum += sat\n",
    "            else:\n",
    "                break\n",
    "        return ans\n"
   ]
  },
  {
   "cell_type": "code",
   "execution_count": null,
   "metadata": {},
   "outputs": [],
   "source": [
    "#dp\n",
    "class Solution:\n",
    "    def maxSatisfaction(self, satisfaction: List[int]) -> int:\n",
    "        satisfaction.sort() # ascending order \n",
    "        \n",
    "        # i: start index in satisfatcion  k:number of dishes cooked\n",
    "        def fn(i, k): \n",
    "            \"\"\"Return max sum of like-time coefficient of satisfation[i:].\"\"\"\n",
    "            if i == len(satisfaction): return 0 \n",
    "            return max(satisfaction[i]*k + fn(i+1, k+1), fn(i+1, k))\n",
    "        \n",
    "        return fn(0, 1)"
   ]
  },
  {
   "cell_type": "code",
   "execution_count": null,
   "metadata": {},
   "outputs": [],
   "source": []
  },
  {
   "attachments": {},
   "cell_type": "markdown",
   "metadata": {},
   "source": [
    "A chef has collected data on the satisfaction level of his n dishes. Chef can cook any dish in 1 unit of time.\n",
    "\n",
    "Like-time coefficient of a dish is defined as the time taken to cook that dish including previous dishes multiplied by its satisfaction level i.e. time[i] * satisfaction[i].\n",
    "\n",
    "Return the maximum sum of like-time coefficient that the chef can obtain after dishes preparation.\n",
    "\n",
    "Dishes can be prepared in any order and the chef can discard some dishes to get this maximum value.\n",
    "\n",
    " \n",
    "\n",
    "Example 1:\n",
    "\n",
    "Input: satisfaction = [-1,-8,0,5,-9]\n",
    "Output: 14\n",
    "Explanation: After Removing the second and last dish, the maximum total like-time coefficient will be equal to (-1*1 + 0*2 + 5*3 = 14).\n",
    "Each dish is prepared in one unit of time.\n",
    "\n",
    "\n",
    "Example 2:\n",
    "Input: satisfaction = [4,3,2]\n",
    "Output: 20\n",
    "Explanation: Dishes can be prepared in any order, (2*1 + 3*2 + 4*3 = 20)\n",
    "\n",
    "\n",
    "Example 3:\n",
    "Input: satisfaction = [-1,-4,-5]\n",
    "Output: 0\n",
    "Explanation: People do not like the dishes. No dish is prepared.\n",
    " \n",
    "\n",
    "Constraints:\n",
    "\n",
    "n == satisfaction.length\n",
    "1 <= n <= 500\n",
    "-1000 <= satisfaction[i] <= 1000"
   ]
  },
  {
   "cell_type": "markdown",
   "metadata": {},
   "source": []
  }
 ],
 "metadata": {
  "kernelspec": {
   "display_name": "rlprj",
   "language": "python",
   "name": "python3"
  },
  "language_info": {
   "codemirror_mode": {
    "name": "ipython",
    "version": 3
   },
   "file_extension": ".py",
   "mimetype": "text/x-python",
   "name": "python",
   "nbconvert_exporter": "python",
   "pygments_lexer": "ipython3",
   "version": "3.9.12"
  },
  "orig_nbformat": 4
 },
 "nbformat": 4,
 "nbformat_minor": 2
}
