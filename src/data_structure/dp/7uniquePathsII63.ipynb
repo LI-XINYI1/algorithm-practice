{
 "cells": [
  {
   "cell_type": "code",
   "execution_count": 3,
   "metadata": {},
   "outputs": [],
   "source": [
    "from typing import List"
   ]
  },
  {
   "cell_type": "code",
   "execution_count": 15,
   "metadata": {},
   "outputs": [],
   "source": [
    "class Solution:\n",
    "        \n",
    "    def uniquePathsWithObstacles(self, obstacleGrid: List[List[int]]) -> int:\n",
    "        #1. def of dp[i][j]: num of ways to reach (i,j)\n",
    "        #2. formula: dp[i][j] = dp[i-1][j] + dp[i][j-1]\n",
    "        #             if obstacleGrid[][] == 0\n",
    "        #3. initialization: dp[0][0] = 1\n",
    "        #   !!!!!!!!!  dp[0-m][0] = 1; dp[0][0-n] = 1;\n",
    "        #             if obstacleGrid[][] == 0\n",
    "        #4. sequence: 0,0 - m,n    \n",
    "        m,n = len(obstacleGrid), len(obstacleGrid[0])\n",
    "        \n",
    "        # 此时初始化不能默认都为1\n",
    "        dp = [[0 for i in range(0,n)] for j in range(0,m)]\n",
    "        # 第一格两种情况：\n",
    "        dp[0][0] = 1 if obstacleGrid[0][0] != 1 else 0\n",
    "        if dp[0][0] == 0: return 0  # 如果第一个格子就是障碍，return 0\n",
    "\n",
    "        # 第一行\n",
    "        for i in range(1, n):\n",
    "            if obstacleGrid[0][i] != 1:\n",
    "                dp[0][i] = dp[0][i-1]\n",
    "\n",
    "        # 第一列\n",
    "        for i in range(1, m):\n",
    "            if obstacleGrid[i][0] != 1:\n",
    "                dp[i][0] = dp[i-1][0]\n",
    "        print(dp)\n",
    "\n",
    "        for i in range(1, m):\n",
    "            for j in range(1, n):\n",
    "                if obstacleGrid[i][j] != 1:\n",
    "                    dp[i][j] = dp[i-1][j] + dp[i][j-1]\n",
    "        return dp[-1][-1]\n",
    "        \n",
    "        \n",
    "    def oneDemDP(self,obstacleGrid: List[List[int]]) -> int:\n",
    "        m,n = len(obstacleGrid), len(obstacleGrid[0])\n",
    "        #dp[i]: in current line(0), steps to [cur row,i] \n",
    "        dp = [0]*n\n",
    "        for j in range(n):\n",
    "            if obstacleGrid[0][j] == 1:\n",
    "                break\n",
    "            dp[j] = 1\n",
    "\n",
    "        for i in range(1,m):\n",
    "            for j in range(n):\n",
    "                if obstacleGrid[i][j] == 1:\n",
    "                    dp[j] = 0\n",
    "                elif j>0:\n",
    "                    # 等价于\n",
    "                    # dp[i][j] = dp[i - 1][j] + dp[i][j - 1]\n",
    "                    dp[j] = dp[j] + dp[j-1]\n",
    "                else: \n",
    "                    # 隐含的状态更新: j=0\n",
    "                    # d[j] remains the same\n",
    "                    # dp[i][0] = dp[i - 1][0]\n",
    "                    continue\n",
    "                  \n",
    "\n",
    "        return dp[n-1]\n",
    "\n"
   ]
  },
  {
   "cell_type": "code",
   "execution_count": 16,
   "metadata": {},
   "outputs": [
    {
     "name": "stdout",
     "output_type": "stream",
     "text": [
      "[[1, 0], [1, 0]]\n",
      "1\n"
     ]
    }
   ],
   "source": [
    "instance = Solution()\n",
    "print(instance.uniquePathsWithObstacles([[0,1],[0,0]]))"
   ]
  },
  {
   "cell_type": "code",
   "execution_count": 18,
   "metadata": {},
   "outputs": [
    {
     "name": "stdout",
     "output_type": "stream",
     "text": [
      "1\n"
     ]
    }
   ],
   "source": [
    "print(instance.oneDemDP([[0,1],[0,0]]))"
   ]
  },
  {
   "cell_type": "code",
   "execution_count": null,
   "metadata": {},
   "outputs": [],
   "source": []
  }
 ],
 "metadata": {
  "kernelspec": {
   "display_name": "Python 3.9.12 ('pyenv')",
   "language": "python",
   "name": "python3"
  },
  "language_info": {
   "codemirror_mode": {
    "name": "ipython",
    "version": 3
   },
   "file_extension": ".py",
   "mimetype": "text/x-python",
   "name": "python",
   "nbconvert_exporter": "python",
   "pygments_lexer": "ipython3",
   "version": "3.9.12"
  },
  "orig_nbformat": 4,
  "vscode": {
   "interpreter": {
    "hash": "60df5f9251d5060479ea0310e3190655ffb5fe80a3d85720ea8dd26d80e72672"
   }
  }
 },
 "nbformat": 4,
 "nbformat_minor": 2
}
