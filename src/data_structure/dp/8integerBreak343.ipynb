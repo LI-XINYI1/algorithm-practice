{
 "cells": [
  {
   "cell_type": "code",
   "execution_count": null,
   "metadata": {},
   "outputs": [],
   "source": []
  },
  {
   "cell_type": "code",
   "execution_count": 1,
   "metadata": {},
   "outputs": [],
   "source": [
    "# 1.dp[i]: max multi of value i\n",
    "# 2.formula\n",
    "#     dp[i] = max(dp[i], j*dp[i-j], j*(i-j)) 0<j<i\n",
    "# 3.initialization: \n",
    "#     dp[0]/[1] no meaning\n",
    "#     dp[2] = 1 = 1*1\n",
    "# 4. sequence: i: 3-num, j:1-(i-1) \n",
    "\n",
    "class Solution:\n",
    "    def interBreak(self, n:int)->int:\n",
    "        dp = [0]*(n+1)  #value 0 - n \n",
    "        dp[2] = 1\n",
    "        for i in range(3,n+1):\n",
    "            for j in range(1,i):\n",
    "                dp[i] = max(dp[i], j*dp[i-j], j*(i-j))\n",
    "        return dp[n]\n"
   ]
  },
  {
   "cell_type": "code",
   "execution_count": 2,
   "metadata": {},
   "outputs": [
    {
     "name": "stdout",
     "output_type": "stream",
     "text": [
      "36\n"
     ]
    }
   ],
   "source": [
    "instance = Solution()\n",
    "print(instance.interBreak(10))"
   ]
  },
  {
   "cell_type": "code",
   "execution_count": null,
   "metadata": {},
   "outputs": [],
   "source": []
  }
 ],
 "metadata": {
  "kernelspec": {
   "display_name": "Python 3.9.12 ('pyenv')",
   "language": "python",
   "name": "python3"
  },
  "language_info": {
   "codemirror_mode": {
    "name": "ipython",
    "version": 3
   },
   "file_extension": ".py",
   "mimetype": "text/x-python",
   "name": "python",
   "nbconvert_exporter": "python",
   "pygments_lexer": "ipython3",
   "version": "3.9.12"
  },
  "orig_nbformat": 4,
  "vscode": {
   "interpreter": {
    "hash": "60df5f9251d5060479ea0310e3190655ffb5fe80a3d85720ea8dd26d80e72672"
   }
  }
 },
 "nbformat": 4,
 "nbformat_minor": 2
}
