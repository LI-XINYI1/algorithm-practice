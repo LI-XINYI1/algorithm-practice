{
 "cells": [
  {
   "cell_type": "code",
   "execution_count": 2,
   "metadata": {},
   "outputs": [],
   "source": [
    "from typing import List"
   ]
  },
  {
   "cell_type": "code",
   "execution_count": 3,
   "metadata": {},
   "outputs": [],
   "source": [
    "class Solution:\n",
    "\n",
    "    #13partition416\n",
    "    def canPartition(self, nums: List[int]) -> bool:\n",
    "        sum_val = sum(nums)\n",
    "        if sum_val%2 == 1:\n",
    "            return False\n",
    "        target = sum_val//2\n",
    "        dp = [0]*20001\n",
    "        \n",
    "        for i in range(len(nums)):\n",
    "            for j in range(target, nums[i]-1, -1):\n",
    "                dp[j] = max(dp[j], dp[j-nums[i]]+nums[i])\n",
    "        \n",
    "        return 2*dp[target] == sum_val\n",
    "\n",
    "    #14 - 1049\n",
    "    def lastStoneWeightII(self, stones: List[int]) -> int:\n",
    "        target = sum(stones)//2\n",
    "        dp = [0]*3001\n",
    "        \n",
    "        for i in range(len(stones)):\n",
    "            for j in range(target,stones[i]-1,-1):\n",
    "                dp[j] = max(dp[j], dp[j-stones[i]]+stones[i])\n",
    "        \n",
    "        rlt = sum(stones)-2*dp[target]\n",
    "        \n",
    "        return rlt\n",
    "\n",
    "    #16 - 494 : NOTE!!! 方法数！！！Number of WAYS\n",
    "    def findTargetSum(self, nums: List[int], target: int) -> int:\n",
    "        sumVal = sum(nums)\n",
    "        if abs(target)>sumVal or (sumVal+target)%2==1:\n",
    "            return 0\n",
    "\n",
    "        target = (sumVal+target)//2\n",
    "        # dp[i]: num of ways that sum = i\n",
    "        # initialization: all 0, but dp[0] must be 1!!!!\n",
    "        dp = [0]*(target+1)  #size is target+1 !!!!!!\n",
    "        dp[0] = 1\n",
    "        for i in range(len(nums)):\n",
    "            for j in range(target, nums[i]-1, -1):\n",
    "                dp[j] += dp[j-nums[i]]\n",
    "        return dp[target]\n",
    "    \n",
    "    #17 - 474\n",
    "    def findMaxForm(self, strs: List[str], m: int, n: int) -> int:\n",
    "        #两维背包：0,1数量两个限制\n",
    "        #dp[i][j]: max string num with num(0)<m and num(1)<n\n",
    "        #dp[i][j] = max( dp[i][j], dp[i-zeroNum][j-oneNum] + 1)\n",
    "        #dp[i][j] = 0\n",
    "        # from i/j = 0 to m,n (bagsize)\n",
    "        dp = [ [0]*(n+1) for i in range(m+1)]\n",
    "        for str in strs:\n",
    "            ones = str.count('1')\n",
    "            zeros = str.count('0')\n",
    "            for i in range(m, zeros-1,-1):\n",
    "                for j in range(n, ones-1, -1):\n",
    "                    dp[i][j] = max( dp[i][j], dp[i-zeros][j-ones] + 1)\n",
    "        return dp[m][n]"
   ]
  },
  {
   "cell_type": "code",
   "execution_count": null,
   "metadata": {},
   "outputs": [],
   "source": []
  },
  {
   "cell_type": "code",
   "execution_count": null,
   "metadata": {},
   "outputs": [],
   "source": []
  }
 ],
 "metadata": {
  "kernelspec": {
   "display_name": "Python 3.9.12 ('pyenv')",
   "language": "python",
   "name": "python3"
  },
  "language_info": {
   "codemirror_mode": {
    "name": "ipython",
    "version": 3
   },
   "file_extension": ".py",
   "mimetype": "text/x-python",
   "name": "python",
   "nbconvert_exporter": "python",
   "pygments_lexer": "ipython3",
   "version": "3.9.12"
  },
  "orig_nbformat": 4,
  "vscode": {
   "interpreter": {
    "hash": "60df5f9251d5060479ea0310e3190655ffb5fe80a3d85720ea8dd26d80e72672"
   }
  }
 },
 "nbformat": 4,
 "nbformat_minor": 2
}
