{
 "cells": [
  {
   "cell_type": "code",
   "execution_count": null,
   "metadata": {},
   "outputs": [],
   "source": []
  },
  {
   "cell_type": "markdown",
   "metadata": {},
   "source": [
    "1. 01背包  \n",
    "    n件物品  \n",
    "    ith item: weight[i] value[i] unique  \n",
    "    want: max(sum(value))"
   ]
  },
  {
   "cell_type": "markdown",
   "metadata": {},
   "source": [
    "1. dp[i][j]: 从下标[0-i]的物品取，放进容量[j]的包\n",
    "2. dp[i][j] = max(dp[i-1][j], dp[i-1][j-wight[i]]+value[i])\n",
    "3. initialization\n",
    "4. sequence: i,j small to large"
   ]
  },
  {
   "cell_type": "code",
   "execution_count": 2,
   "metadata": {},
   "outputs": [],
   "source": [
    "def test_2_wei_bag_problem1(bag_size,weight,value) -> int:\n",
    "    rows, cols = len(weight), bag_size+1\n",
    "    dp = [[0 for _ in range(cols)] for _ in range(rows)]\n",
    "\n",
    "    #initialization\n",
    "    for i in range(rows):\n",
    "        dp[i][0] = 0\n",
    "    for j in range(cols):\n",
    "        if j < weight[0]:\n",
    "            continue\n",
    "        dp[0][j] = value[0]\n",
    "    \n",
    "    #formula\n",
    "    for i in range(1,rows):\n",
    "        for j in range(1,cols):\n",
    "            if j < weight[i]:\n",
    "                dp[i][j] = dp[i-1][j]\n",
    "            else:\n",
    "                dp[i][j] = max(dp[i-1][j], dp[i-1][j-weight[i]]+value[i])\n",
    "    print(dp)    \n"
   ]
  },
  {
   "cell_type": "code",
   "execution_count": 3,
   "metadata": {},
   "outputs": [
    {
     "name": "stdout",
     "output_type": "stream",
     "text": [
      "[[0, 15, 15, 15, 15], [0, 15, 15, 20, 35], [0, 15, 15, 20, 35]]\n"
     ]
    }
   ],
   "source": [
    "if __name__ == \"__main__\":\n",
    "    bag_size = 4\n",
    "    weight = [1, 3, 4]\n",
    "    value = [15, 20, 30]\n",
    "    test_2_wei_bag_problem1(bag_size, weight, value)"
   ]
  },
  {
   "cell_type": "code",
   "execution_count": 6,
   "metadata": {},
   "outputs": [],
   "source": [
    "def test_1_wei_bag_problem1(bag_size,weight,value) -> int:\n",
    "    #dp[j]表示：容量为j的背包，所背的物品价值可以最大为dp[j]，\n",
    "    # 那么dp[0]就应该是0，因为背包容量为0所背的物品的最大价值就是0。\n",
    "    dp = [0]*(bag_size+1)\n",
    "    \n",
    "    for i in range(len(weight)):\n",
    "        for j in range(bag_size,weight[i]-1, -1):\n",
    "            dp[j] = max(dp[j-weight[i]]+value[i],dp[j])\n",
    "    print(dp)"
   ]
  },
  {
   "cell_type": "code",
   "execution_count": 7,
   "metadata": {},
   "outputs": [
    {
     "name": "stdout",
     "output_type": "stream",
     "text": [
      "[0, 15, 15, 20, 35]\n"
     ]
    }
   ],
   "source": [
    "if __name__ == \"__main__\":\n",
    "    bag_size = 4\n",
    "    weight = [1, 3, 4]\n",
    "    value = [15, 20, 30]\n",
    "    test_1_wei_bag_problem1(bag_size, weight, value)"
   ]
  },
  {
   "cell_type": "code",
   "execution_count": 1,
   "metadata": {},
   "outputs": [],
   "source": [
    "weight = [1, 3, 4]"
   ]
  },
  {
   "cell_type": "code",
   "execution_count": 3,
   "metadata": {},
   "outputs": [
    {
     "name": "stdout",
     "output_type": "stream",
     "text": [
      "3\n"
     ]
    }
   ],
   "source": [
    "for i in weight[1:-1]:\n",
    "    print(i)"
   ]
  },
  {
   "cell_type": "code",
   "execution_count": null,
   "metadata": {},
   "outputs": [],
   "source": []
  }
 ],
 "metadata": {
  "kernelspec": {
   "display_name": "Python 3.9.12 ('pyenv')",
   "language": "python",
   "name": "python3"
  },
  "language_info": {
   "codemirror_mode": {
    "name": "ipython",
    "version": 3
   },
   "file_extension": ".py",
   "mimetype": "text/x-python",
   "name": "python",
   "nbconvert_exporter": "python",
   "pygments_lexer": "ipython3",
   "version": "3.9.12"
  },
  "orig_nbformat": 4,
  "vscode": {
   "interpreter": {
    "hash": "60df5f9251d5060479ea0310e3190655ffb5fe80a3d85720ea8dd26d80e72672"
   }
  }
 },
 "nbformat": 4,
 "nbformat_minor": 2
}
