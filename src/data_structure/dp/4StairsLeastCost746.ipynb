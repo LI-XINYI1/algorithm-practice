{
 "cells": [
  {
   "cell_type": "code",
   "execution_count": 1,
   "metadata": {},
   "outputs": [],
   "source": [
    "from typing import List"
   ]
  },
  {
   "cell_type": "code",
   "execution_count": 7,
   "metadata": {},
   "outputs": [],
   "source": [
    "class Solution:\n",
    "    def minCostClimbingStairs(self, cost: List[int]) -> int:\n",
    "        #1. def of dp[i]: cost to reach step i min\n",
    "        #2. inductive formula\n",
    "        #    dp[i] = min(dp[i - 1], dp[i - 2]) + cost[i]\n",
    "        #3. initialization of dp[]\n",
    "        dp = [0] * (len(cost))\n",
    "        dp[0] = cost[0]\n",
    "        dp[1] = cost[1]\n",
    "        #4. sequence of iteration: head to tail\n",
    "        for i in range(2, len(cost)):\n",
    "            #2. inductive formula\n",
    "            dp[i] = min(dp[i - 1], dp[i - 2]) + cost[i]\n",
    "        return min(dp[len(cost) - 1], dp[len(cost) - 2])"
   ]
  },
  {
   "cell_type": "code",
   "execution_count": 8,
   "metadata": {},
   "outputs": [
    {
     "name": "stdout",
     "output_type": "stream",
     "text": [
      "15\n"
     ]
    }
   ],
   "source": [
    "instance = Solution()\n",
    "print(instance.minCostClimbingStairs([10,15,20]))"
   ]
  },
  {
   "cell_type": "code",
   "execution_count": 9,
   "metadata": {},
   "outputs": [
    {
     "name": "stdout",
     "output_type": "stream",
     "text": [
      "6\n"
     ]
    }
   ],
   "source": [
    "print(instance.minCostClimbingStairs([1, 100, 1, 1, 1, 100, 1, 1, 100, 1] ))"
   ]
  },
  {
   "cell_type": "code",
   "execution_count": null,
   "metadata": {},
   "outputs": [],
   "source": []
  }
 ],
 "metadata": {
  "kernelspec": {
   "display_name": "venv",
   "language": "python",
   "name": "python3"
  },
  "language_info": {
   "codemirror_mode": {
    "name": "ipython",
    "version": 3
   },
   "file_extension": ".py",
   "mimetype": "text/x-python",
   "name": "python",
   "nbconvert_exporter": "python",
   "pygments_lexer": "ipython3",
   "version": "3.9.12"
  },
  "orig_nbformat": 4,
  "vscode": {
   "interpreter": {
    "hash": "71235cf5e7d53f4703aebb5b98cb323819545e2c8318c5904603bf1090e9d12b"
   }
  }
 },
 "nbformat": 4,
 "nbformat_minor": 2
}
