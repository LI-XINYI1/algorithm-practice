{
 "cells": [
  {
   "cell_type": "code",
   "execution_count": null,
   "metadata": {},
   "outputs": [],
   "source": [
    "class Solution:\n",
    "    def putMarbles(self, weights: List[int], k: int) -> int:\n",
    "      # find largest/smallest pairs\n",
    "      n = len(weights)\n",
    "      mx = weights[0] + weights[-1]\n",
    "      mn = weights[0] + weights[-1]\n",
    "\n",
    "      adj_sum = []\n",
    "      for i in range(n-1):\n",
    "         adj_sum.append(weights[i]+weights[i+1])\n",
    "\n",
    "      sorted_pair_sum = sorted(adj_sum,reverse=True)\n",
    "\n",
    "      for i in range(k-1):\n",
    "         mx += sorted_pair_sum[i]\n",
    "         mn += sorted_pair_sum[(n-1)-i-1]\n",
    "      \n",
    "      return mx - mn\n"
   ]
  },
  {
   "cell_type": "markdown",
   "metadata": {},
   "source": [
    "Suppose array is [a,b,c,d,e,f,g,h]\n",
    "\n",
    "Lets think what happen if k = 1 our maximum is a + h, because all marble need to put up in same bag. (Easy)\n",
    "\n",
    "Lets think what happen if k = 2 our maximum still consist of a + two extra variable + h what are those two extra variable, we don't know these two extra variable but yes these two must be adjacent (Important) For now let's say these two extra variable is c and d so our answer is now a + (c + d) + h and two bag consist of marble a,b,c and d, e, f, g, h\n",
    "\n",
    "Lets think what happen if k = 3 our maximum still consist of a + (c + d) + two extra variable + h, what are those two extra variable, we don't know these two extra variable but yes these two must be adjacent (Important) For now let's say these two extra variable is g and h so our answer is now a + (c + d) + (g + h) + h and our bag consist of marbles a,b,c and d, e, f, g and h for 3 bags respectively and same goes for k = 4 , 5 , 6 .......\n",
    "\n",
    "For maximum (c+d) > (g+h) and so on....\n",
    "For minimum (c+d) < (g+h) and so on...."
   ]
  },
  {
   "attachments": {},
   "cell_type": "markdown",
   "metadata": {},
   "source": [
    "2551. Put Marbles in Bags\n",
    "Hard\n",
    "1.5K\n",
    "59\n",
    "Companies\n",
    "You have k bags. You are given a 0-indexed integer array weights where weights[i] is the weight of the ith marble. You are also given the integer k.\n",
    "\n",
    "Divide the marbles into the k bags according to the following rules:\n",
    "\n",
    "No bag is empty.\n",
    "If the ith marble and jth marble are in a bag, then all marbles with an index between the ith and jth indices should also be in that same bag.\n",
    "If a bag consists of all the marbles with an index from i to j inclusively, then the cost of the bag is weights[i] + weights[j].\n",
    "The score after distributing the marbles is the sum of the costs of all the k bags.\n",
    "\n",
    "Return the difference between the maximum and minimum scores among marble distributions.\n",
    "\n",
    " \n",
    "\n",
    "Example 1:\n",
    "\n",
    "Input: weights = [1,3,5,1], k = 2\n",
    "Output: 4\n",
    "Explanation: \n",
    "The distribution [1],[3,5,1] results in the minimal score of (1+1) + (3+1) = 6. \n",
    "The distribution [1,3],[5,1], results in the maximal score of (1+3) + (5+1) = 10. \n",
    "Thus, we return their difference 10 - 6 = 4.\n",
    "Example 2:\n",
    "\n",
    "Input: weights = [1, 3], k = 2\n",
    "Output: 0\n",
    "Explanation: The only distribution possible is [1],[3]. \n",
    "Since both the maximal and minimal score are the same, we return 0.\n",
    " \n",
    "\n",
    "Constraints:\n",
    "\n",
    "1 <= k <= weights.length <= 105\n",
    "1 <= weights[i] <= 109\n",
    "Accepted\n",
    "35.3K\n",
    "Submissions\n",
    "53.6K\n"
   ]
  }
 ],
 "metadata": {
  "language_info": {
   "name": "python"
  },
  "orig_nbformat": 4
 },
 "nbformat": 4,
 "nbformat_minor": 2
}
