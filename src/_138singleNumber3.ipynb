{
 "cells": [
  {
   "cell_type": "code",
   "execution_count": null,
   "metadata": {},
   "outputs": [],
   "source": [
    "# brute force\n",
    "class Solution:\n",
    "  def singleNumber_bf(self, nums: List[int]) -> int:\n",
    "      count = defaultdict(int)\n",
    "      for x in nums:\n",
    "          count[x] += 1\n",
    "      ans = []\n",
    "      for x, freq in count.items():\n",
    "          if freq == 1:\n",
    "              ans.append(x)\n",
    "      return ans\n",
    "  \n",
    "  def singleNumber(self, nums: List[int]) -> int:\n",
    "        xor_nums = 0\n",
    "        for num in nums:\n",
    "            xor_nums ^= num     \n",
    "\n",
    "        diffBit = 1;\n",
    "        while True:\n",
    "            if xor_nums & diffBit:\n",
    "                break\n",
    "            diffBit <<= 1\n",
    "\n",
    "        ans1 = 0\n",
    "        for num in nums:\n",
    "            if num & diffBit:\n",
    "                ans1 ^= num\n",
    "        ans2 = ans1 ^ xor_nums\n",
    "\n",
    "        return [ans1,ans2]\n",
    "\n",
    "\n"
   ]
  },
  {
   "attachments": {},
   "cell_type": "markdown",
   "metadata": {},
   "source": [
    "Lets take xor of the whole array( my first for loop ).\n",
    "The resultant would be of the form a^b, where a and b both are unique number whose frequency is one and the xor would not be zero because numbers are distinct\n",
    "Now we know that the total xor is non zero therefore atleast one bit in it must be set. This set bit would have come from either a or from b but not both becasue 1 ^ 1 = 0 i.e if both a and b have same set bit it would get toggled.\n",
    "lets assume that it came from b. Iterate through the array and take xor of all the elements where that bit is set( it wont be in a ). Every number would come in pair except b so prevxor ^ b = a;\n",
    "Now that we have a, xor it with initial array xor to get b.\n",
    "NOTE : It doesn't matter which set bit we choose in point 4. The concept would remain the same."
   ]
  },
  {
   "cell_type": "code",
   "execution_count": null,
   "metadata": {},
   "outputs": [],
   "source": []
  },
  {
   "cell_type": "code",
   "execution_count": null,
   "metadata": {},
   "outputs": [],
   "source": []
  },
  {
   "cell_type": "code",
   "execution_count": null,
   "metadata": {},
   "outputs": [],
   "source": []
  },
  {
   "attachments": {},
   "cell_type": "markdown",
   "metadata": {},
   "source": [
    "260. Single Number III\n",
    "Medium\n",
    "5.1K\n",
    "215\n",
    "Companies\n",
    "Given an integer array nums, in which exactly two elements appear only once and all the other elements appear exactly twice. Find the two elements that appear only once. You can return the answer in any order.\n",
    "\n",
    "You must write an algorithm that runs in linear runtime complexity and uses only constant extra space.\n",
    "\n",
    " \n",
    "\n",
    "Example 1:\n",
    "\n",
    "Input: nums = [1,2,1,3,2,5]\n",
    "Output: [3,5]\n",
    "Explanation:  [5, 3] is also a valid answer.\n",
    "Example 2:\n",
    "\n",
    "Input: nums = [-1,0]\n",
    "Output: [-1,0]\n",
    "Example 3:\n",
    "\n",
    "Input: nums = [0,1]\n",
    "Output: [1,0]\n",
    " \n",
    "\n",
    "Constraints:\n",
    "\n",
    "2 <= nums.length <= 3 * 104\n",
    "-231 <= nums[i] <= 231 - 1\n",
    "Each integer in nums will appear twice, only two integers will appear once."
   ]
  }
 ],
 "metadata": {
  "language_info": {
   "name": "python"
  },
  "orig_nbformat": 4
 },
 "nbformat": 4,
 "nbformat_minor": 2
}
