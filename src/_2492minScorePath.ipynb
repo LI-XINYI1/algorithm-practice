{
 "cells": [
  {
   "attachments": {},
   "cell_type": "markdown",
   "metadata": {},
   "source": [
    "3.23 lc-daily union-find\n"
   ]
  },
  {
   "cell_type": "code",
   "execution_count": 1,
   "metadata": {},
   "outputs": [],
   "source": [
    "from typing import List"
   ]
  },
  {
   "cell_type": "code",
   "execution_count": null,
   "metadata": {},
   "outputs": [],
   "source": [
    "class Solution:\n",
    "\n",
    "    parent = []\n",
    "    size = []\n",
    "    count = 0\n",
    "\n",
    "    def find(self,n:int)->int:\n",
    "\n",
    "        if self.parent[n] !=n:\n",
    "            self.parent[n] = self.find(self.parent[n])\n",
    "        return self.parent[n]\n",
    "\n",
    "\n",
    "    def union(self,p:int,q:int):\n",
    "        root_p = self.find(p)\n",
    "        root_q = self.find(q)\n",
    "        if root_p == root_q:\n",
    "            return\n",
    "        \n",
    "        if self.size[root_p] < self.size[root_q]:\n",
    "            self.parent[root_p] = root_q\n",
    "            self.size[root_q] += self.size[root_p]\n",
    "        else:\n",
    "            self.parent[root_q] = root_p\n",
    "            self.size[root_p] += self.size[root_q]\n",
    "        self.count -= 1\n",
    "\n",
    "    def minScore(self, n:int, roads:List[List[int]]) -> int: \n",
    "        self.parent = [i for i in range(n+1)]\n",
    "        self.size = [1 for _ in range(n+1)]\n",
    "\n",
    "        minScore = float('inf')\n",
    "        for road in roads:\n",
    "            self.union(road[0],road[1])\n",
    "\n",
    "        root1 = self.find(1)\n",
    "        for road in roads:\n",
    "            if root1 == self.find(road[0]) == self.find(road[1]):\n",
    "                minScore = min(minScore,road[2])\n",
    "\n",
    "        return minScore"
   ]
  },
  {
   "cell_type": "code",
   "execution_count": null,
   "metadata": {},
   "outputs": [],
   "source": []
  },
  {
   "cell_type": "code",
   "execution_count": null,
   "metadata": {},
   "outputs": [],
   "source": []
  },
  {
   "cell_type": "code",
   "execution_count": null,
   "metadata": {},
   "outputs": [],
   "source": []
  },
  {
   "attachments": {
    "image-2.png": {
     "image/png": "[encoded data removed]"
    },
    "image.png": {
     "image/png": "[encoded data removed]"
    }
   },
   "cell_type": "markdown",
   "metadata": {},
   "source": [
    "You are given a positive integer n representing n cities numbered from 1 to n. You are also given a 2D array roads where roads[i] = [ai, bi, distancei] indicates that there is a bidirectional road between cities ai and bi with a distance equal to distancei. The cities graph is not necessarily connected.\n",
    "\n",
    "The score of a path between two cities is defined as the minimum distance of a road in this path.\n",
    "\n",
    "Return the minimum possible score of a path between cities 1 and n.\n",
    "\n",
    "Note:\n",
    "\n",
    "A path is a sequence of roads between two cities.\n",
    "It is allowed for a path to contain the same road multiple times, and you can visit cities 1 and n multiple times along the path.\n",
    "The test cases are generated such that there is at least one path between 1 and n.\n",
    "\n",
    "Example 1:\n",
    "![image.png](attachment:image.png) </br>\n",
    "\n",
    "Input: n = 4, roads = [[1,2,9],[2,3,6],[2,4,5],[1,4,7]]\n",
    "Output: 5\n",
    "Explanation: The path from city 1 to 4 with the minimum score is: 1 -> 2 -> 4. The score of this path is min(9,5) = 5.\n",
    "It can be shown that no other path has less score.\n",
    "\n",
    "Example 2:\n",
    "![image.png](attachment:image-2.png) </br》\n",
    "\n",
    "Input: n = 4, roads = [[1,2,2],[1,3,4],[3,4,7]]\n",
    "Output: 2\n",
    "Explanation: The path from city 1 to 4 with the minimum score is: 1 -> 2 -> 1 -> 3 -> 4. The score of this path is min(2,2,4,7) = 2.\n",
    "\n",
    "Constraints:\n",
    "\n",
    "2 <= n <= 105\n",
    "1 <= roads.length <= 105\n",
    "roads[i].length == 3\n",
    "1 <= ai, bi <= n\n",
    "ai != bi\n",
    "1 <= distancei <= 104\n",
    "There are no repeated edges.\n",
    "There is at least one path between 1 and n.\n",
    "Accepted\n",
    "67.6K\n",
    "Submissions\n",
    "116.1K\n",
    "Acceptance Rate\n",
    "58.2%\n"
   ]
  },
  {
   "cell_type": "markdown",
   "metadata": {},
   "source": []
  }
 ],
 "metadata": {
  "kernelspec": {
   "display_name": "rlprj",
   "language": "python",
   "name": "python3"
  },
  "language_info": {
   "codemirror_mode": {
    "name": "ipython",
    "version": 3
   },
   "file_extension": ".py",
   "mimetype": "text/x-python",
   "name": "python",
   "nbconvert_exporter": "python",
   "pygments_lexer": "ipython3",
   "version": "3.9.12"
  },
  "orig_nbformat": 4
 },
 "nbformat": 4,
 "nbformat_minor": 2
}
