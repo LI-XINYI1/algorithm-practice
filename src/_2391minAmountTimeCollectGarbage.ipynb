{
 "cells": [
  {
   "cell_type": "markdown",
   "metadata": {},
   "source": [
    "lc2391. Minimum Amount of Time to Collect Garbage m math, reverse thinking\n"
   ]
  },
  {
   "cell_type": "code",
   "execution_count": null,
   "metadata": {},
   "outputs": [],
   "source": [
    "class Solution:\n",
    "    def garbageCollection(self, garbage: List[str], travel: List[int]) -> int:\n",
    "        ans = 0\n",
    "        \n",
    "        for time in travel:\n",
    "            ans += 3*time   # tot time if last stop has all 3 types to collect\n",
    "        \n",
    "        for items in garbage:\n",
    "            ans += len(items) # tot time to collect garbages\n",
    "        \n",
    "        for i in range(len(garbage)-1,0,-1):\n",
    "            if \"G\" not in garbage[i]:\n",
    "                ans -= travel[i-1]\n",
    "            else:\n",
    "                break\n",
    "        \n",
    "        for i in range(len(garbage) - 1, 0, -1):\n",
    "            if \"P\" not in garbage[i]:\n",
    "                ans -= travel[i - 1]\n",
    "            else:\n",
    "                break\n",
    "\n",
    "        for i in range(len(garbage) - 1, 0, -1):\n",
    "            if \"M\" not in garbage[i]:\n",
    "                ans -= travel[i - 1]\n",
    "            else:\n",
    "                break\n",
    "\n",
    "        return ans                \n",
    "\n"
   ]
  }
 ],
 "metadata": {
  "language_info": {
   "name": "python"
  }
 },
 "nbformat": 4,
 "nbformat_minor": 2
}
