{
 "cells": [
  {
   "cell_type": "code",
   "execution_count": null,
   "metadata": {},
   "outputs": [],
   "source": [
    "class Solution:\n",
    "   def buddyStrings(self, s: str, goal: str) -> bool:\n",
    "      \n",
    "      n = len(s)\n",
    "      \n",
    "      # if s and goal are exactly the same:\n",
    "      # if s has duplicate characters (set len < str len): can swap same charac\n",
    "      if s == goal:\n",
    "         temp = set(s)\n",
    "         return len(temp) < len(goal)\n",
    "      \n",
    "      i = 0\n",
    "      j = n - 1\n",
    "\n",
    "      # from beginning: find first position i where s/goal unmatch\n",
    "      while i < j and s[i] == goal[i]:\n",
    "         i += 1\n",
    "\n",
    "      # from tail: find first position i where s/goal unmatch\n",
    "      while j >= 0 and s[j] == goal[j]:\n",
    "         j -= 1\n",
    "      \n",
    "      # check if s is same as goal after swaping i~j  \n",
    "      if i < j:\n",
    "         s_list = list(s)\n",
    "         s_list[i], s_list[j] = s_list[j], s_list[i]\n",
    "         s = ''.join(s_list)\n",
    "      \n",
    "      return s == goal\n"
   ]
  },
  {
   "cell_type": "code",
   "execution_count": null,
   "metadata": {},
   "outputs": [],
   "source": []
  },
  {
   "attachments": {},
   "cell_type": "markdown",
   "metadata": {},
   "source": [
    "859. Buddy Strings\n",
    "Easy\n",
    "2.8K\n",
    "1.6K\n",
    "Companies\n",
    "Given two strings s and goal, return true if you can swap two letters in s so the result is equal to goal, otherwise, return false.\n",
    "\n",
    "Swapping letters is defined as taking two indices i and j (0-indexed) such that i != j and swapping the characters at s[i] and s[j].\n",
    "\n",
    "For example, swapping at indices 0 and 2 in \"abcd\" results in \"cbad\".\n",
    " \n",
    "\n",
    "Example 1:\n",
    "\n",
    "Input: s = \"ab\", goal = \"ba\"\n",
    "Output: true\n",
    "Explanation: You can swap s[0] = 'a' and s[1] = 'b' to get \"ba\", which is equal to goal.\n",
    "Example 2:\n",
    "\n",
    "Input: s = \"ab\", goal = \"ab\"\n",
    "Output: false\n",
    "Explanation: The only letters you can swap are s[0] = 'a' and s[1] = 'b', which results in \"ba\" != goal.\n",
    "Example 3:\n",
    "\n",
    "Input: s = \"aa\", goal = \"aa\"\n",
    "Output: true\n",
    "Explanation: You can swap s[0] = 'a' and s[1] = 'a' to get \"aa\", which is equal to goal.\n",
    " \n",
    "\n",
    "Constraints:\n",
    "\n",
    "1 <= s.length, goal.length <= 2 * 104\n",
    "s and goal consist of lowercase letters."
   ]
  }
 ],
 "metadata": {
  "language_info": {
   "name": "python"
  },
  "orig_nbformat": 4
 },
 "nbformat": 4,
 "nbformat_minor": 2
}
