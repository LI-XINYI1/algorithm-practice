{
 "cells": [
  {
   "attachments": {},
   "cell_type": "markdown",
   "metadata": {},
   "source": [
    "lc-weekly 5.14 dp\n"
   ]
  },
  {
   "cell_type": "code",
   "execution_count": null,
   "metadata": {},
   "outputs": [],
   "source": [
    "class Solution:\n",
    "    def maxMoves(self, grid: List[List[int]]) -> int:\n",
    "        # dynamic programming\n",
    "        # dp[i][j] = dp[i+1][j-1] or dp[i][j-1] or dp[i-1][j-1] + 1, if grid[i][j] > grid[prev]\n",
    "        \n",
    "        rows, cols = len(grid), len(grid[0])\n",
    "        dp = [[-1]*cols for _ in range(rows)]\n",
    "        for i in range(rows):\n",
    "            dp[i][0] = 0\n",
    "        \n",
    "        rlt = 0\n",
    "        for j in range(1,cols):\n",
    "            for i in range(rows):\n",
    "                if dp[i][j-1]>=0 and grid[i][j] > grid[i][j-1]:\n",
    "                    dp[i][j] = max(dp[i][j-1]+1, dp[i][j])\n",
    "                if i>0:\n",
    "                    if dp[i-1][j-1]>=0 and grid[i][j] > grid[i-1][j-1]:\n",
    "                        dp[i][j] = max(dp[i-1][j-1]+1, dp[i][j])\n",
    "                if i<rows-1:\n",
    "                    if dp[i+1][j-1]>=0 and grid[i][j] > grid[i+1][j-1]:\n",
    "                        dp[i][j] = max(dp[i+1][j-1]+1, dp[i][j])          \n",
    "                if dp[i][j] > rlt:\n",
    "                    rlt = dp[i][j]\n",
    "        print(dp)\n",
    "        return rlt\n",
    "                        "
   ]
  }
 ],
 "metadata": {
  "language_info": {
   "name": "python"
  },
  "orig_nbformat": 4
 },
 "nbformat": 4,
 "nbformat_minor": 2
}
