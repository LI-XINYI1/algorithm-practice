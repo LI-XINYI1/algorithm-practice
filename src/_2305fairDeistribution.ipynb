{
 "cells": [
  {
   "cell_type": "code",
   "execution_count": 3,
   "metadata": {},
   "outputs": [],
   "source": [
    "# backtrack: explore all possible distribusion\n",
    "# starts with an empty distribution and recursively assigns each cookie to one of the children, \n",
    "#     backtracking when needed to explore other possibilities.\n",
    "# prune unpromising branches: keep track of min unfairness encountered so far\n",
    "# update min unfirness whenever a complete distribution is achieved\n",
    "from typing import List \n",
    "\n",
    "class Solution:\n",
    "    def distributeCookies(self, cookies: List[int], k: int) -> int:\n",
    "        \n",
    "        min_unfair = float('inf')\n",
    "        distribution = [0]*k\n",
    "\n",
    "        def backtrack(index_cookie):\n",
    "            nonlocal min_unfair,distribution\n",
    "\n",
    "            if index_cookie == len(cookies):\n",
    "              min_unfair = min(min_unfair, max(distribution))\n",
    "              return\n",
    "\n",
    "            # bounding condition to stop a branch:\n",
    "            #   when max unfair distribution alr exceeds optimal min unfair\n",
    "            if min_unfair <= max(distribution):\n",
    "              return\n",
    "                          \n",
    "            for child in range(k):\n",
    "                distribution[child] += cookies[index_cookie]\n",
    "                backtrack(index_cookie+1)\n",
    "                distribution[child] -= cookies[index_cookie]\n",
    "        \n",
    "        backtrack(0)\n",
    "        return min_unfair\n"
   ]
  },
  {
   "cell_type": "code",
   "execution_count": null,
   "metadata": {},
   "outputs": [],
   "source": []
  },
  {
   "cell_type": "code",
   "execution_count": null,
   "metadata": {},
   "outputs": [],
   "source": []
  },
  {
   "attachments": {},
   "cell_type": "markdown",
   "metadata": {},
   "source": [
    "2305. Fair Distribution of Cookies\n",
    "Medium\n",
    "1.2K\n",
    "56\n",
    "Companies\n",
    "You are given an integer array cookies, where cookies[i] denotes the number of cookies in the ith bag. You are also given an integer k that denotes the number of children to distribute all the bags of cookies to. All the cookies in the same bag must go to the same child and cannot be split up.\n",
    "\n",
    "The unfairness of a distribution is defined as the maximum total cookies obtained by a single child in the distribution.\n",
    "\n",
    "Return the minimum unfairness of all distributions.\n",
    "\n",
    " \n",
    "\n",
    "Example 1:\n",
    "\n",
    "Input: cookies = [8,15,10,20,8], k = 2\n",
    "Output: 31\n",
    "Explanation: One optimal distribution is [8,15,8] and [10,20]\n",
    "- The 1st child receives [8,15,8] which has a total of 8 + 15 + 8 = 31 cookies.\n",
    "- The 2nd child receives [10,20] which has a total of 10 + 20 = 30 cookies.\n",
    "The unfairness of the distribution is max(31,30) = 31.\n",
    "It can be shown that there is no distribution with an unfairness less than 31.\n",
    "Example 2:\n",
    "\n",
    "Input: cookies = [6,1,3,2,2,4,1,2], k = 3\n",
    "Output: 7\n",
    "Explanation: One optimal distribution is [6,1], [3,2,2], and [4,1,2]\n",
    "- The 1st child receives [6,1] which has a total of 6 + 1 = 7 cookies.\n",
    "- The 2nd child receives [3,2,2] which has a total of 3 + 2 + 2 = 7 cookies.\n",
    "- The 3rd child receives [4,1,2] which has a total of 4 + 1 + 2 = 7 cookies.\n",
    "The unfairness of the distribution is max(7,7,7) = 7.\n",
    "It can be shown that there is no distribution with an unfairness less than 7.\n",
    " \n",
    "\n",
    "Constraints:\n",
    "\n",
    "2 <= cookies.length <= 8\n",
    "1 <= cookies[i] <= 105\n",
    "2 <= k <= cookies.length"
   ]
  }
 ],
 "metadata": {
  "kernelspec": {
   "display_name": "rlprj",
   "language": "python",
   "name": "python3"
  },
  "language_info": {
   "codemirror_mode": {
    "name": "ipython",
    "version": 3
   },
   "file_extension": ".py",
   "mimetype": "text/x-python",
   "name": "python",
   "nbconvert_exporter": "python",
   "pygments_lexer": "ipython3",
   "version": "3.9.12"
  },
  "orig_nbformat": 4
 },
 "nbformat": 4,
 "nbformat_minor": 2
}
