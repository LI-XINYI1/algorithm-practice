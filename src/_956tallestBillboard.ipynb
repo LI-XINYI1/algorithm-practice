{
 "cells": [
  {
   "attachments": {},
   "cell_type": "markdown",
   "metadata": {},
   "source": [
    "lc 956 DP\n"
   ]
  },
  {
   "cell_type": "code",
   "execution_count": null,
   "metadata": {},
   "outputs": [],
   "source": [
    "class Solution:\n",
    "    def tallestBillboard(self, rods: List[int]) -> int:\n",
    "        # dp:\n",
    "        # 1. dp[difference between bbs] = max common heights of billboards\n",
    "        # 2. range( 0 , sum(rods)+1 )\n",
    "        # 3. initialization: \n",
    "        #       dp[0] = 0, no rods are used; \n",
    "        #       others -1: value not computed yet\n",
    "        # 4. inductive formula:\n",
    "        #    for each rod (this rod is not inserted before):\n",
    "        #       create a copy of dp - dpCopy, keep track of previous state [bcs the below itr are independent]\n",
    "        #       iterates through all possible heights up to `sum-rod`: height of the billboard without considering the current rod\n",
    "        #       if dpCopy[i] is not valid = -1: have no rod yet, continue\n",
    "        #           case1: add on tall side\n",
    "        #                  dp[i+rod] = max(dpCopy[i] 更新后common max height不变, dp[d+x] d+x原状态  )\n",
    "        #           case2: add on short side\n",
    "        #                  dp[abs(i-rod)] = max(dpCopy[i]+min(rod,i) 更新后, dp[abs(i-rod) 原状态  )\n",
    "        # 5. sequence: iterate through each rod in rods array\n",
    "\n",
    "        _sum = sum(rods)\n",
    "        dp = [-1] * (_sum + 1)\n",
    "        dp[0] = 0\n",
    "\n",
    "        for rod in rods:\n",
    "            dp_copy = dp[:]\n",
    "\n",
    "            for i in range(_sum - rod + 1):\n",
    "                if dp_copy[i] < 0:\n",
    "                    continue\n",
    "\n",
    "                dp[i + rod] = max(dp[i + rod], dp_copy[i])\n",
    "                dp[abs(i - rod)] = max(dp[abs(i - rod)], dp_copy[i] + min(i, rod))\n",
    "\n",
    "        return dp[0]"
   ]
  },
  {
   "cell_type": "code",
   "execution_count": null,
   "metadata": {},
   "outputs": [],
   "source": []
  },
  {
   "cell_type": "code",
   "execution_count": null,
   "metadata": {},
   "outputs": [],
   "source": []
  },
  {
   "attachments": {},
   "cell_type": "markdown",
   "metadata": {},
   "source": [
    "956. Tallest Billboard\n",
    "     Hard\n",
    "     2.1K\n",
    "     51\n",
    "     Companies\n",
    "     You are installing a billboard and want it to have the largest height. The billboard will have two steel supports, one on each side. Each steel support must be an equal height.\n",
    "\n",
    "You are given a collection of rods that can be welded together. For example, if you have rods of lengths 1, 2, and 3, you can weld them together to make a support of length 6.\n",
    "\n",
    "Return the largest possible height of your billboard installation. If you cannot support the billboard, return 0.\n",
    "\n",
    "Example 1:\n",
    "\n",
    "Input: rods = [1,2,3,6]\n",
    "Output: 6\n",
    "Explanation: We have two disjoint subsets {1,2,3} and {6}, which have the same sum = 6.\n",
    "Example 2:\n",
    "\n",
    "Input: rods = [1,2,3,4,5,6]\n",
    "Output: 10\n",
    "Explanation: We have two disjoint subsets {2,3,5} and {4,6}, which have the same sum = 10.\n",
    "Example 3:\n",
    "\n",
    "Input: rods = [1,2]\n",
    "Output: 0\n",
    "Explanation: The billboard cannot be supported, so we return 0.\n"
   ]
  }
 ],
 "metadata": {
  "language_info": {
   "name": "python"
  },
  "orig_nbformat": 4
 },
 "nbformat": 4,
 "nbformat_minor": 2
}
