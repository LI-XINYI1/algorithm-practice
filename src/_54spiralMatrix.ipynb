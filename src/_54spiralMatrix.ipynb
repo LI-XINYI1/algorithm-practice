{
 "cells": [
  {
   "attachments": {},
   "cell_type": "markdown",
   "metadata": {},
   "source": [
    "lc-daily 5.9\n"
   ]
  },
  {
   "cell_type": "code",
   "execution_count": null,
   "metadata": {},
   "outputs": [],
   "source": [
    "from typing import List\n",
    "class Solution:\n",
    "    def spiralOrder(self, matrix: List[List[int]]) -> List[int]:\n",
    "        if not matrix:\n",
    "            return []\n",
    "        \n",
    "        rows, cols = len(matrix), len(matrix[0])\n",
    "        #index of 4 boundaries in 1st iteration\n",
    "        left, right, top, bottom = 0, cols-1, 0, rows-1\n",
    "        rlt = []\n",
    "\n",
    "        while len(rlt) < rows*cols: #end when traverse all eles in metrix\n",
    "            for i in range(left,right+1):\n",
    "                rlt.append(matrix[top][i])\n",
    "            top += 1\n",
    "\n",
    "            # top plus one before add on right side, avoid duplicates\n",
    "            for i in range(top,bottom+1): \n",
    "                rlt.append(matrix[i][right])\n",
    "            right -= 1\n",
    "\n",
    "            if top <= bottom:\n",
    "              for i in range(right, left-1, -1):\n",
    "                  rlt.append(matrix[bottom][i])\n",
    "              bottom -= 1\n",
    "\n",
    "            if left <= right:\n",
    "              for i in range(bottom, top-1, -1):\n",
    "                  rlt.append(matrix[i][left])\n",
    "              left += 1\n",
    "        \n",
    "        return rlt"
   ]
  }
 ],
 "metadata": {
  "language_info": {
   "name": "python"
  },
  "orig_nbformat": 4
 },
 "nbformat": 4,
 "nbformat_minor": 2
}
