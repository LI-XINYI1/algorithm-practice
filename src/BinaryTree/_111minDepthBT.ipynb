{
 "cells": [
  {
   "cell_type": "code",
   "execution_count": null,
   "metadata": {},
   "outputs": [],
   "source": [
    "# Definition for a binary tree node.\n",
    "# class TreeNode:\n",
    "#     def __init__(self, val=0, left=None, right=None):\n",
    "#         self.val = val\n",
    "#         self.left = left\n",
    "#         self.right = right\n",
    "class Solution:\n",
    "    \n",
    "    # DFS, recursion\n",
    "    def minDepth(self, root: Optional[TreeNode]) -> int:\n",
    "        if not root:\n",
    "            return 0\n",
    "\n",
    "        left = self.minDepth(root.left)\n",
    "        right = self.minDepth(root.right)\n",
    "\n",
    "        if root.left and root.right:\n",
    "            return min(left,right) + 1\n",
    "        \n",
    "        return max(left,right) + 1\n",
    "    \n",
    "    # BFS\n",
    "    def minDepth_bfs(self, root: Optional[TreeNode]) -> int:\n",
    "        if not root:\n",
    "            return 0\n",
    "\n",
    "        queue = deque()\n",
    "        queue.append(root)\n",
    "        depth = 0\n",
    "\n",
    "        while queue:\n",
    "            size = len(queue)  #num of nodes in current level\n",
    "            depth += 1\n",
    "\n",
    "            for _ in range(size):\n",
    "                node = queue.popleft()\n",
    "                if not node.left and not node.right:\n",
    "                    return depth\n",
    "                else:\n",
    "                    if node.left:\n",
    "                        queue.append(node.left)\n",
    "                    if node.right:\n",
    "                        queue.append(node.right)\n",
    "        \n",
    "        return 0 #edge case: empty tree\n",
    "\n",
    "        "
   ]
  }
 ],
 "metadata": {
  "language_info": {
   "name": "python"
  },
  "orig_nbformat": 4
 },
 "nbformat": 4,
 "nbformat_minor": 2
}
