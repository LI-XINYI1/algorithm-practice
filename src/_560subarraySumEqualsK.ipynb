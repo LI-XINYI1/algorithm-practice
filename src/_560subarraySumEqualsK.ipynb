{
 "cells": [
  {
   "attachments": {},
   "cell_type": "markdown",
   "metadata": {},
   "source": [
    "lc560 - m - prefix sum\n"
   ]
  },
  {
   "cell_type": "code",
   "execution_count": null,
   "metadata": {},
   "outputs": [],
   "source": [
    "class Solution:\n",
    "    # TC O(N^2) SC O(N)\n",
    "    # TEL\n",
    "    def subarrySum_1_array(self, nums: List[int], k: int) -> str:\n",
    "        n = len(nums)\n",
    "        # create prefix-sum array\n",
    "        sum = [0]*(n+1)\n",
    "        for i in range(n):\n",
    "            # sum[i+1] is sum from [0...i]\n",
    "            sum[i+1] = sum[i] + nums[i]\n",
    "        \n",
    "        ans = 0\n",
    "        # iterate thro all sub-arrays\n",
    "        for i in range(n+1):\n",
    "            for j in range(i):\n",
    "                #sum of nums[j...i-1]\n",
    "                if sum[i] - sum[j] == k:\n",
    "                    ans += 1\n",
    "        \n",
    "        return ans\n",
    "\n",
    "    def subarrySum_2_hash(self, nums, k: int) -> str:\n",
    "        ans=0\n",
    "        prefsum=0\n",
    "        d={0:1}\n",
    "\n",
    "        for num in nums:\n",
    "            prefsum = prefsum + num\n",
    "\n",
    "            if prefsum-k in d:\n",
    "                ans = ans + d[prefsum-k]\n",
    "\n",
    "            if prefsum not in d:\n",
    "                d[prefsum] = 1\n",
    "                                \n",
    "            else:\n",
    "                d[prefsum] = d[prefsum]+1\n",
    "\n",
    "        return ans"
   ]
  },
  {
   "cell_type": "code",
   "execution_count": 4,
   "metadata": {},
   "outputs": [],
   "source": []
  },
  {
   "cell_type": "code",
   "execution_count": null,
   "metadata": {},
   "outputs": [],
   "source": []
  },
  {
   "cell_type": "code",
   "execution_count": null,
   "metadata": {},
   "outputs": [],
   "source": []
  },
  {
   "attachments": {},
   "cell_type": "markdown",
   "metadata": {},
   "source": [
    "Given an array of integers nums and an integer k, return the total number of subarrays whose sum equals to k.\n",
    "\n",
    "A subarray is a contiguous non-empty sequence of elements within an array.\n",
    "\n",
    "Example 1:\n",
    "\n",
    "Input: nums = [1,1,1], k = 2\n",
    "Output: 2\n",
    "Example 2:\n",
    "\n",
    "Input: nums = [1,2,3], k = 3\n",
    "Output: 2\n",
    "\n",
    "Constraints:\n",
    "\n",
    "1 <= nums.length <= 2 \\* 104\n",
    "-1000 <= nums[i] <= 1000\n",
    "-107 <= k <= 107\n"
   ]
  }
 ],
 "metadata": {
  "kernelspec": {
   "display_name": "rlprj",
   "language": "python",
   "name": "python3"
  },
  "language_info": {
   "codemirror_mode": {
    "name": "ipython",
    "version": 3
   },
   "file_extension": ".py",
   "mimetype": "text/x-python",
   "name": "python",
   "nbconvert_exporter": "python",
   "pygments_lexer": "ipython3",
   "version": "3.9.12"
  },
  "orig_nbformat": 4
 },
 "nbformat": 4,
 "nbformat_minor": 2
}
