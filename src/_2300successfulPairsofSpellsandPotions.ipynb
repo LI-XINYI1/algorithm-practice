{
 "cells": [
  {
   "attachments": {},
   "cell_type": "markdown",
   "metadata": {},
   "source": [
    "4.2 lcdaily  search"
   ]
  },
  {
   "cell_type": "code",
   "execution_count": null,
   "metadata": {},
   "outputs": [],
   "source": [
    "# TLE\n",
    "class SolutionTLE:\n",
    "    def successfulPairs(self, spells: List[int], potions: List[int], success: int) -> List[int]:\n",
    "        n = len(spells)\n",
    "        potions.sort(reverse=True)\n",
    "        rlt=[]\n",
    "        for i in spells:\n",
    "            count = 0\n",
    "            for j in potions:\n",
    "                if i*j >= success:\n",
    "                    count += 1\n",
    "                else:\n",
    "                    break\n",
    "            rlt.append(count)  \n",
    "        return rlt "
   ]
  },
  {
   "cell_type": "code",
   "execution_count": null,
   "metadata": {},
   "outputs": [],
   "source": [
    "# binary search\n",
    "class Solution:\n",
    "    def successfulPairs(self, spells: List[int], potions: List[int], success: int) -> List[int]:\n",
    "        n = len(spells)\n",
    "        m = len(potions)\n",
    "        potions.sort()\n",
    "        #sorted_potions = sorted(potions) #plan2\n",
    "\n",
    "        rlt=[]\n",
    "        for i,s in enumerate(spells):\n",
    "            #binary search 找临界mid in potions\n",
    "            l = 0\n",
    "            r = m-1 #!!!!不是m\n",
    "            while l<=r:\n",
    "                mid = l + ((r-l)>>1)\n",
    "                product = s*potions[mid]\n",
    "                if product >= success:\n",
    "                    r = mid-1\n",
    "                else:\n",
    "                    l = mid+1\n",
    "            rlt.append(m-l)  #只能是-l,不能-r\n",
    "        return rlt "
   ]
  },
  {
   "cell_type": "code",
   "execution_count": null,
   "metadata": {},
   "outputs": [],
   "source": [
    "#minimum strength is calculated by\n",
    "#using the formula (success + a - 1) // a\n",
    "from bisect import bisect_left\n",
    "\n",
    "class Solution:\n",
    "    def successfulPairs(self, spells, potions, success):\n",
    "        sorted_potions = sorted(potions)\n",
    "        result = []\n",
    "        for a in spells:\n",
    "            count = len(sorted_potions) - bisect_left(sorted_potions, (success + a - 1) // a)\n",
    "            result.append(count)\n",
    "        return result"
   ]
  },
  {
   "attachments": {},
   "cell_type": "markdown",
   "metadata": {},
   "source": [
    "You are given two positive integer arrays spells and potions, of length n and m respectively, where spells[i] represents the strength of the ith spell and potions[j] represents the strength of the jth potion.\n",
    "\n",
    "You are also given an integer success. A spell and potion pair is considered successful if the product of their strengths is at least success.\n",
    "\n",
    "Return an integer array pairs of length n where pairs[i] is the number of potions that will form a successful pair with the ith spell.\n",
    "\n",
    " \n",
    "\n",
    "Example 1:\n",
    "\n",
    "Input: spells = [5,1,3], potions = [1,2,3,4,5], success = 7\n",
    "Output: [4,0,3]\n",
    "Explanation:\n",
    "- 0th spell: 5 * [1,2,3,4,5] = [5,10,15,20,25]. 4 pairs are successful.\n",
    "- 1st spell: 1 * [1,2,3,4,5] = [1,2,3,4,5]. 0 pairs are successful.\n",
    "- 2nd spell: 3 * [1,2,3,4,5] = [3,6,9,12,15]. 3 pairs are successful.\n",
    "Thus, [4,0,3] is returned.\n",
    "Example 2:\n",
    "\n",
    "Input: spells = [3,1,2], potions = [8,5,8], success = 16\n",
    "Output: [2,0,2]\n",
    "Explanation:\n",
    "- 0th spell: 3 * [8,5,8] = [24,15,24]. 2 pairs are successful.\n",
    "- 1st spell: 1 * [8,5,8] = [8,5,8]. 0 pairs are successful. \n",
    "- 2nd spell: 2 * [8,5,8] = [16,10,16]. 2 pairs are successful. \n",
    "Thus, [2,0,2] is returned.\n",
    " \n",
    "\n",
    "Constraints:\n",
    "\n",
    "n == spells.length\n",
    "m == potions.length\n",
    "1 <= n, m <= 105\n",
    "1 <= spells[i], potions[i] <= 105\n",
    "1 <= success <= 1010"
   ]
  },
  {
   "cell_type": "markdown",
   "metadata": {},
   "source": []
  }
 ],
 "metadata": {
  "kernelspec": {
   "display_name": "rlprj",
   "language": "python",
   "name": "python3"
  },
  "language_info": {
   "codemirror_mode": {
    "name": "ipython",
    "version": 3
   },
   "file_extension": ".py",
   "mimetype": "text/x-python",
   "name": "python",
   "nbconvert_exporter": "python",
   "pygments_lexer": "ipython3",
   "version": "3.9.12"
  },
  "orig_nbformat": 4
 },
 "nbformat": 4,
 "nbformat_minor": 2
}
