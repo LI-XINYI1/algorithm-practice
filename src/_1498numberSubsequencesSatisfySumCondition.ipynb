{
 "cells": [
  {
   "attachments": {},
   "cell_type": "markdown",
   "metadata": {},
   "source": [
    "lc-daily 5.6 2pointers\n"
   ]
  },
  {
   "cell_type": "code",
   "execution_count": null,
   "metadata": {},
   "outputs": [],
   "source": [
    "from typing import List"
   ]
  },
  {
   "cell_type": "code",
   "execution_count": 4,
   "metadata": {},
   "outputs": [
    {
     "data": {
      "text/plain": [
       "[]"
      ]
     },
     "execution_count": 4,
     "metadata": {},
     "output_type": "execute_result"
    }
   ],
   "source": [
    "ls = [1,2,3,4,5,6]\n",
    "ls[9:]"
   ]
  },
  {
   "cell_type": "code",
   "execution_count": null,
   "metadata": {},
   "outputs": [],
   "source": []
  },
  {
   "cell_type": "code",
   "execution_count": null,
   "metadata": {},
   "outputs": [],
   "source": [
    "# 1. brute force\n",
    "# Time complexity O(2^n * n)\n",
    "# Space complexity O(1)\n",
    "class Solution:\n",
    "    def numSubseq(self, nums: List[int], target: int) -> int:\n",
    "        \n",
    "        n = len(nums)\n",
    "        mod = int(1e9+7)\n",
    "        rlt = 0\n",
    "        \n",
    "        # represent subsequence as a binary string of length n: \n",
    "        #   i-th bit =1: included, 0: not in subsequence\n",
    "        # number of subsequences: 2^n  -> 1<<n\n",
    "        for i in range(1<<n):\n",
    "            min_val, max_val = float('inf'), float('-inf')\n",
    "            for j in range(n):\n",
    "                # if j-th bit in binary string i is 1, update min/max\n",
    "                if (i & (1<<j)):\n",
    "                    min_val = min(min_val,nums[j])\n",
    "                    max_val = max(max_val,nums[j])\n",
    "            if min_val + max_val <= target:\n",
    "                rlt = (rlt+1)%mod\n",
    "        \n",
    "        return rlt - 1 #remove empty subsequence"
   ]
  },
  {
   "cell_type": "code",
   "execution_count": null,
   "metadata": {},
   "outputs": [],
   "source": [
    "# 2. two pointer\n",
    "# Time complexity:o(nlog(n)+O(n)+O(LOG(N)+o(ASS))) ==> O(NLOG(N)) 5.2%\n",
    "# Space complexity:o(ASS for pow(x,y) 29%\n",
    "class Solution:\n",
    "\n",
    "    # return x^y mod (mod), x always be 2, y = high - low pointer\n",
    "    def power(self,x,y):\n",
    "        # base case of recursion: power(0,0) power(0,1)\n",
    "        if y == 0:\n",
    "            return 1\n",
    "        if y == 1:\n",
    "            return x # length of nums <= 10^5\n",
    "        ans = 1\n",
    "\n",
    "        # x^y = (x^(y//2))^2\n",
    "        if y%2 == 0:\n",
    "            ans = self.power(x, y//2)\n",
    "            ans *= ans\n",
    "        # x^y = x*(x^(y-1))\n",
    "        else:\n",
    "            ans = self.power(x, y-1)\n",
    "            ans *= x\n",
    "\n",
    "        return ans\n",
    "        \n",
    "\n",
    "    def numSubseq(self, nums: List[int], target: int) -> int:\n",
    "        \n",
    "        mod = int(1e9+7)\n",
    "        rlt = 0\n",
    "\n",
    "        # sort the list, ascending (non-descending)\n",
    "        nums.sort()\n",
    "\n",
    "        # initiol pointers\n",
    "        low = 0\n",
    "        high = len(nums)-1\n",
    "\n",
    "        while low<=high:\n",
    "            if nums[low]+nums[high] <= target:\n",
    "                # all subsequences between high, low satisfies\n",
    "                rlt += self.power(2, high-low)\n",
    "                rlt %= mod\n",
    "                low += 1\n",
    "            else:\n",
    "                high -= 1\n",
    "        return rlt % mod\n",
    "\n",
    "        "
   ]
  },
  {
   "cell_type": "code",
   "execution_count": null,
   "metadata": {},
   "outputs": [],
   "source": [
    "# 3. optimal\n",
    "# reduce TC on recursion calcaulation: use array POW[] to store intermediate results\n",
    "class Solution:\n",
    "    def numSubseq(self, nums: List[int], target: int) -> int:\n",
    "        nums.sort()\n",
    "        \n",
    "        mod = int(1e9+7)\n",
    "        rlt = 0\n",
    "\n",
    "        low = 0\n",
    "        high = len(nums)-1\n",
    "\n",
    "        # define the list POW\n",
    "        pows = [0]*len(nums)\n",
    "        pows[0] = 1 #base case: 2^0 = 1\n",
    "        for i in range(1,len(nums)):\n",
    "            pows[i] = (pows[i-1]*2)%mod\n",
    "        # # method 2 of creating pows[]\n",
    "        # pre = [1]\n",
    "        # for i in range(1, len(nums) + 1):\n",
    "        #     pre.append((pre[-1] << 1) % mod)\n",
    "        \n",
    "        while low<=high:\n",
    "            if nums[low]+nums[high] <= target:\n",
    "                rlt += pows[high-low]\n",
    "                rlt %= mod\n",
    "                low += 1\n",
    "            else:\n",
    "                high -= 1\n",
    "        return rlt % mod"
   ]
  },
  {
   "cell_type": "code",
   "execution_count": null,
   "metadata": {},
   "outputs": [],
   "source": []
  },
  {
   "attachments": {},
   "cell_type": "markdown",
   "metadata": {},
   "source": [
    "1498. Number of Subsequences That Satisfy the Given Sum Condition\n",
    "      Medium\n",
    "      3.3K\n",
    "      288\n",
    "      Companies\n",
    "      You are given an array of integers nums and an integer target.\n",
    "\n",
    "Return the number of non-empty subsequences of nums such that the sum of the minimum and maximum element on it is less or equal to target. Since the answer may be too large, return it modulo 109 + 7.\n",
    "\n",
    "Example 1:\n",
    "\n",
    "Input: nums = [3,5,6,7], target = 9\n",
    "Output: 4\n",
    "Explanation: There are 4 subsequences that satisfy the condition.\n",
    "[3] -> Min value + max value <= target (3 + 3 <= 9)\n",
    "[3,5] -> (3 + 5 <= 9)\n",
    "[3,5,6] -> (3 + 6 <= 9)\n",
    "[3,6] -> (3 + 6 <= 9)\n",
    "Example 2:\n",
    "\n",
    "Input: nums = [3,3,6,8], target = 10\n",
    "Output: 6\n",
    "Explanation: There are 6 subsequences that satisfy the condition. (nums can have repeated numbers).\n",
    "[3] , [3] , [3,3], [3,6] , [3,6] , [3,3,6]\n",
    "Example 3:\n",
    "\n",
    "Input: nums = [2,3,3,4,6,7], target = 12\n",
    "Output: 61\n",
    "Explanation: There are 63 non-empty subsequences, two of them do not satisfy the condition ([6,7], [7]).\n",
    "Number of valid subsequences (63 - 2 = 61).\n",
    "\n",
    "Constraints:\n",
    "\n",
    "1 <= nums.length <= 105\n",
    "1 <= nums[i] <= 106\n",
    "1 <= target <= 106\n"
   ]
  }
 ],
 "metadata": {
  "kernelspec": {
   "display_name": "rlprj",
   "language": "python",
   "name": "python3"
  },
  "language_info": {
   "codemirror_mode": {
    "name": "ipython",
    "version": 3
   },
   "file_extension": ".py",
   "mimetype": "text/x-python",
   "name": "python",
   "nbconvert_exporter": "python",
   "pygments_lexer": "ipython3",
   "version": "3.9.12"
  },
  "orig_nbformat": 4
 },
 "nbformat": 4,
 "nbformat_minor": 2
}
