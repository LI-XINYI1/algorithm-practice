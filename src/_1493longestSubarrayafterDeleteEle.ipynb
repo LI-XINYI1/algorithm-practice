{
 "cells": [
  {
   "cell_type": "code",
   "execution_count": null,
   "metadata": {},
   "outputs": [],
   "source": [
    "class Solution:\n",
    "    def longestSubarray(self, nums: List[int]) -> int:\n",
    "        n = len(nums)\n",
    "\n",
    "        left = 0\n",
    "        zeros = 0\n",
    "        ans = 0\n",
    "\n",
    "        for right in range(n):\n",
    "            if nums[right] == 0:\n",
    "                zeros += 1\n",
    "            \n",
    "            while zeros > 1:\n",
    "                if nums[left] != 0:\n",
    "                    left += 1\n",
    "\n",
    "            ans = max(ans, right-left+1-zeros)\n",
    "      \n",
    "        #if the entire array is the longest array, must substract 1\n",
    "        return ans - 1 if ans == n else ans "
   ]
  },
  {
   "cell_type": "code",
   "execution_count": null,
   "metadata": {},
   "outputs": [],
   "source": []
  },
  {
   "attachments": {},
   "cell_type": "markdown",
   "metadata": {},
   "source": [
    "1493. Longest Subarray of 1's After Deleting One Element\n",
    "Medium\n",
    "2.8K\n",
    "48\n",
    "Companies\n",
    "Given a binary array nums, you should delete one element from it.\n",
    "\n",
    "Return the size of the longest non-empty subarray containing only 1's in the resulting array. Return 0 if there is no such subarray.\n",
    "\n",
    " \n",
    "\n",
    "Example 1:\n",
    "\n",
    "Input: nums = [1,1,0,1]\n",
    "Output: 3\n",
    "Explanation: After deleting the number in position 2, [1,1,1] contains 3 numbers with value of 1's.\n",
    "Example 2:\n",
    "\n",
    "Input: nums = [0,1,1,1,0,1,1,0,1]\n",
    "Output: 5\n",
    "Explanation: After deleting the number in position 4, [0,1,1,1,1,1,0,1] longest subarray with value of 1's is [1,1,1,1,1].\n",
    "Example 3:\n",
    "\n",
    "Input: nums = [1,1,1]\n",
    "Output: 2\n",
    "Explanation: You must delete one element.\n",
    " \n",
    "\n",
    "Constraints:\n",
    "\n",
    "1 <= nums.length <= 105\n",
    "nums[i] is either 0 or 1."
   ]
  }
 ],
 "metadata": {
  "language_info": {
   "name": "python"
  },
  "orig_nbformat": 4
 },
 "nbformat": 4,
 "nbformat_minor": 2
}
