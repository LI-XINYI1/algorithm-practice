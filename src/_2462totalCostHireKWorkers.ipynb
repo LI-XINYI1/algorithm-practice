{
 "cells": [
  {
   "attachments": {},
   "cell_type": "markdown",
   "metadata": {},
   "source": [
    "lc-daily 6.26 priority queues\n"
   ]
  },
  {
   "cell_type": "code",
   "execution_count": null,
   "metadata": {},
   "outputs": [],
   "source": [
    "class Solution:\n",
    "    def totalCost(self, costs: List[int], k: int, candidates: int) -> int:\n",
    "        i = 0\n",
    "        j = len(costs) - 1\n",
    "        pq1 = []\n",
    "        pq2 = []\n",
    "\n",
    "        ans = 0\n",
    "        while k > 0:\n",
    "            while len(pq1) < candidates and i <= j:\n",
    "                #heappush!!!\n",
    "                heapq.heappush(pq1, costs[i])  \n",
    "                i += 1\n",
    "            while len(pq2) < candidates and i <= j:\n",
    "                heapq.heappush(pq2, costs[j])\n",
    "                j -= 1\n",
    "\n",
    "            #pq[0] access the min value among heap, not ejecting\n",
    "            t1 = pq1[0] if pq1 else float('inf') \n",
    "            t2 = pq2[0] if pq2 else float('inf')\n",
    "\n",
    "            if t1 <= t2:\n",
    "                ans += t1\n",
    "                heapq.heappop(pq1)  #eject out\n",
    "            else:\n",
    "                ans += t2\n",
    "                heapq.heappop(pq2)\n",
    "\n",
    "            k -= 1\n",
    "        return ans"
   ]
  },
  {
   "cell_type": "code",
   "execution_count": null,
   "metadata": {},
   "outputs": [],
   "source": []
  },
  {
   "cell_type": "code",
   "execution_count": null,
   "metadata": {},
   "outputs": [],
   "source": []
  },
  {
   "attachments": {},
   "cell_type": "markdown",
   "metadata": {},
   "source": [
    "2462. Total Cost to Hire K Workers\n",
    "      Medium\n",
    "      1.2K\n",
    "      273\n",
    "      Companies\n",
    "      You are given a 0-indexed integer array costs where costs[i] is the cost of hiring the ith worker.\n",
    "\n",
    "You are also given two integers k and candidates. We want to hire exactly k workers according to the following rules:\n",
    "\n",
    "You will run k sessions and hire exactly one worker in each session.\n",
    "In each hiring session, choose the worker with the lowest cost from either the first candidates workers or the last candidates workers. Break the tie by the smallest index.\n",
    "For example, if costs = [3,2,7,7,1,2] and candidates = 2, then in the first hiring session, we will choose the 4th worker because they have the lowest cost [3,2,7,7,1,2].\n",
    "In the second hiring session, we will choose 1st worker because they have the same lowest cost as 4th worker but they have the smallest index [3,2,7,7,2]. Please note that the indexing may be changed in the process.\n",
    "If there are fewer than candidates workers remaining, choose the worker with the lowest cost among them. Break the tie by the smallest index.\n",
    "A worker can only be chosen once.\n",
    "Return the total cost to hire exactly k workers.\n",
    "\n",
    "Example 1:\n",
    "\n",
    "Input: costs = [17,12,10,2,7,2,11,20,8], k = 3, candidates = 4\n",
    "Output: 11\n",
    "Explanation: We hire 3 workers in total. The total cost is initially 0.\n",
    "\n",
    "- In the first hiring round we choose the worker from [17,12,10,2,7,2,11,20,8]. The lowest cost is 2, and we break the tie by the smallest index, which is 3. The total cost = 0 + 2 = 2.\n",
    "- In the second hiring round we choose the worker from [17,12,10,7,2,11,20,8]. The lowest cost is 2 (index 4). The total cost = 2 + 2 = 4.\n",
    "- In the third hiring round we choose the worker from [17,12,10,7,11,20,8]. The lowest cost is 7 (index 3). The total cost = 4 + 7 = 11. Notice that the worker with index 3 was common in the first and last four workers.\n",
    "  The total hiring cost is 11.\n",
    "  Example 2:\n",
    "\n",
    "Input: costs = [1,2,4,1], k = 3, candidates = 3\n",
    "Output: 4\n",
    "Explanation: We hire 3 workers in total. The total cost is initially 0.\n",
    "\n",
    "- In the first hiring round we choose the worker from [1,2,4,1]. The lowest cost is 1, and we break the tie by the smallest index, which is 0. The total cost = 0 + 1 = 1. Notice that workers with index 1 and 2 are common in the first and last 3 workers.\n",
    "- In the second hiring round we choose the worker from [2,4,1]. The lowest cost is 1 (index 2). The total cost = 1 + 1 = 2.\n",
    "- In the third hiring round there are less than three candidates. We choose the worker from the remaining workers [2,4]. The lowest cost is 2 (index 0). The total cost = 2 + 2 = 4.\n",
    "  The total hiring cost is 4.\n",
    "\n",
    "Constraints:\n",
    "\n",
    "1 <= costs.length <= 105\n",
    "1 <= costs[i] <= 105\n",
    "1 <= k, candidates <= costs.length\n"
   ]
  }
 ],
 "metadata": {
  "language_info": {
   "name": "python"
  },
  "orig_nbformat": 4
 },
 "nbformat": 4,
 "nbformat_minor": 2
}
