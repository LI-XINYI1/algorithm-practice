{
 "cells": [
  {
   "attachments": {},
   "cell_type": "markdown",
   "metadata": {},
   "source": [
    "lc m prefix-sum & difference array; char ~ int conversion\n"
   ]
  },
  {
   "cell_type": "code",
   "execution_count": 2,
   "metadata": {},
   "outputs": [],
   "source": [
    "from typing import List \n",
    "class Solution:\n",
    "    def shiftingLetters(self, s: str, shifts: List[List[int]]) -> str:\n",
    "        n = len(s)\n",
    "        d = [0] * (n + 1)\n",
    "        for i, j, v in shifts:\n",
    "            if v == 0:\n",
    "                v = -1\n",
    "            d[i] += v\n",
    "            d[j + 1] -= v\n",
    "        for i in range(1, n + 1):\n",
    "            d[i] += d[i - 1]\n",
    "        return ''.join(\n",
    "            #converts an integer to its unicode character and returns it.\n",
    "            #returns an integer representing the Unicode character.\n",
    "            chr(ord('a') + (ord(s[i]) - ord('a') + d[i] + 26) % 26) for i in range(n)\n",
    "        )"
   ]
  },
  {
   "cell_type": "code",
   "execution_count": null,
   "metadata": {},
   "outputs": [],
   "source": []
  },
  {
   "attachments": {},
   "cell_type": "markdown",
   "metadata": {},
   "source": [
    "You are given a string s of lowercase English letters and a 2D integer array shifts where shifts[i] = [starti, endi, directioni]. For every i, shift the characters in s from the index starti to the index endi (inclusive) forward if directioni = 1, or shift the characters backward if directioni = 0.\n",
    "\n",
    "Shifting a character forward means replacing it with the next letter in the alphabet (wrapping around so that 'z' becomes 'a'). Similarly, shifting a character backward means replacing it with the previous letter in the alphabet (wrapping around so that 'a' becomes 'z').\n",
    "\n",
    "Return the final string after all such shifts to s are applied.\n",
    "\n",
    "Example 1:\n",
    "\n",
    "Input: s = \"abc\", shifts = [[0,1,0],[1,2,1],[0,2,1]]\n",
    "Output: \"ace\"\n",
    "Explanation: Firstly, shift the characters from index 0 to index 1 backward. Now s = \"zac\".\n",
    "Secondly, shift the characters from index 1 to index 2 forward. Now s = \"zbd\".\n",
    "Finally, shift the characters from index 0 to index 2 forward. Now s = \"ace\".\n",
    "Example 2:\n",
    "\n",
    "Input: s = \"dztz\", shifts = [[0,0,0],[1,1,1]]\n",
    "Output: \"catz\"\n",
    "Explanation: Firstly, shift the characters from index 0 to index 0 backward. Now s = \"cztz\".\n",
    "Finally, shift the characters from index 1 to index 1 forward. Now s = \"catz\".\n",
    "\n",
    "Constraints:\n",
    "\n",
    "1 <= s.length, shifts.length <= 5 \\* 104\n",
    "shifts[i].length == 3\n",
    "0 <= starti <= endi < s.length\n",
    "0 <= directioni <= 1\n",
    "s consists of lowercase English letters.\n"
   ]
  }
 ],
 "metadata": {
  "kernelspec": {
   "display_name": "dctwin-nbItb6Ta-py3.9",
   "language": "python",
   "name": "python3"
  },
  "language_info": {
   "codemirror_mode": {
    "name": "ipython",
    "version": 3
   },
   "file_extension": ".py",
   "mimetype": "text/x-python",
   "name": "python",
   "nbconvert_exporter": "python",
   "pygments_lexer": "ipython3",
   "version": "3.9.12"
  },
  "orig_nbformat": 4
 },
 "nbformat": 4,
 "nbformat_minor": 2
}
