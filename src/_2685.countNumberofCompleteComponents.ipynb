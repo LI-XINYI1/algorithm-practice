{
 "cells": [
  {
   "attachments": {},
   "cell_type": "markdown",
   "metadata": {},
   "source": [
    "lc-weekly DFS, complete graph\n"
   ]
  },
  {
   "cell_type": "code",
   "execution_count": null,
   "metadata": {},
   "outputs": [],
   "source": [
    "from typing import List\n",
    "\n",
    "# uses a DFS approach to find all connected components of the graph\n",
    "# then checks if each component is complete \n",
    "# by iterating over all pairs of vertices in the component \n",
    "# and checking if there is an edge between them.\n",
    "class Solution:\n",
    "    def countCompleteComponents(self, n: int, edges: List[List[int]]) -> int:\n",
    "        graph = [[] for _ in range(n)]\n",
    "        for u, v in edges:\n",
    "            graph[u].append(v)\n",
    "            graph[v].append(u)\n",
    "        \n",
    "        visited = [False] * n\n",
    "        num_complete_components = 0\n",
    "        \n",
    "        def dfs(node, component):\n",
    "            visited[node] = True\n",
    "            component.add(node)\n",
    "            for neighbor in graph[node]:\n",
    "                if not visited[neighbor]:\n",
    "                    dfs(neighbor, component)\n",
    "        \n",
    "        for i in range(n):\n",
    "            if not visited[i]:\n",
    "                component = set()\n",
    "                dfs(i, component)\n",
    "                is_complete = True\n",
    "                for u in component:\n",
    "                    for v in component:\n",
    "                        if u != v and v not in graph[u]:\n",
    "                            is_complete = False\n",
    "                            break\n",
    "                    if not is_complete:\n",
    "                        break\n",
    "                if is_complete:\n",
    "                    num_complete_components += 1\n",
    "        \n",
    "        return num_complete_components"
   ]
  }
 ],
 "metadata": {
  "language_info": {
   "name": "python"
  },
  "orig_nbformat": 4
 },
 "nbformat": 4,
 "nbformat_minor": 2
}
