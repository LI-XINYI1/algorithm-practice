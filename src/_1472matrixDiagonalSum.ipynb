{
 "cells": [
  {
   "attachments": {},
   "cell_type": "markdown",
   "metadata": {},
   "source": [
    "lc-daily 5.8 math\n"
   ]
  },
  {
   "cell_type": "code",
   "execution_count": null,
   "metadata": {},
   "outputs": [],
   "source": [
    "from typing import List"
   ]
  },
  {
   "cell_type": "code",
   "execution_count": null,
   "metadata": {},
   "outputs": [],
   "source": [
    "class Solution:\n",
    "    def diagonalSum(self, mat: List[List[int]]) -> int:\n",
    "        length = len(mat)\n",
    "        primSum, secondSum = 0,0\n",
    "        for i in range(length):\n",
    "            # primary diagonal: i = j\n",
    "            # secondary diagonal: i+j = n-1\n",
    "            primSum += mat[i][i]\n",
    "            secondSum += mat[i][length-1-i]\n",
    "        # if odd length, minus the grid in center\n",
    "        # mid index = len//2\n",
    "        if length % 2 == 1:\n",
    "            mid = length//2\n",
    "            secondSum -= mat[mid][mid]\n",
    "        return primSum+secondSum"
   ]
  },
  {
   "cell_type": "code",
   "execution_count": null,
   "metadata": {},
   "outputs": [],
   "source": []
  },
  {
   "attachments": {},
   "cell_type": "markdown",
   "metadata": {},
   "source": [
    "1572. Matrix Diagonal Sum\n",
    "      Easy\n",
    "      2.6K\n",
    "      33\n",
    "      Companies\n",
    "      Given a square matrix mat, return the sum of the matrix diagonals.\n",
    "\n",
    "Only include the sum of all the elements on the primary diagonal and all the elements on the secondary diagonal that are not part of the primary diagonal.\n",
    "\n",
    "Example 1:\n",
    "\n",
    "Input: mat = [[1,2,3],\n",
    "              [4,5,6],\n",
    "              [7,8,9]]\n",
    "Output: 25\n",
    "Explanation: Diagonals sum: 1 + 5 + 9 + 3 + 7 = 25\n",
    "Notice that element mat[1][1] = 5 is counted only once.\n",
    "Example 2:\n",
    "\n",
    "Input: mat = [[1,1,1,1],\n",
    "              [1,1,1,1],\n",
    "              [1,1,1,1],\n",
    "              [1,1,1,1]]\n",
    "Output: 8\n",
    "Example 3:\n",
    "\n",
    "Input: mat = [[5]]\n",
    "Output: 5\n",
    "\n",
    "Constraints:\n",
    "\n",
    "n == mat.length == mat[i].length\n",
    "1 <= n <= 100\n",
    "1 <= mat[i][j] <= 100\n"
   ]
  }
 ],
 "metadata": {
  "language_info": {
   "name": "python"
  },
  "orig_nbformat": 4
 },
 "nbformat": 4,
 "nbformat_minor": 2
}
