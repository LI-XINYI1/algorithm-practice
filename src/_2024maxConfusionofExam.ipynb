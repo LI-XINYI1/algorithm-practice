{
 "cells": [
  {
   "cell_type": "code",
   "execution_count": null,
   "metadata": {},
   "outputs": [],
   "source": [
    "class Solution:\n",
    "    # sliding window\n",
    "    def maxConsecutiveAnswers(self, answerKey, k):\n",
    "        max_freq = i = 0\n",
    "        char_count = collections.Counter()\n",
    "\n",
    "        for j in range(len(answerKey)):\n",
    "\n",
    "            char_count[answerKey[j]] += 1\n",
    "            max_freq = max(max_freq, char_count[answerKey[j]])\n",
    "\n",
    "            if j - i + 1 > max_freq + k:\n",
    "                char_count[answerKey[i]] -= 1\n",
    "                i += 1\n",
    "\n",
    "        return len(answerKey) - i"
   ]
  },
  {
   "attachments": {},
   "cell_type": "markdown",
   "metadata": {},
   "source": [
    "A teacher is writing a test with n true/false questions, with 'T' denoting true and 'F' denoting false. He wants to confuse the students by maximizing the number of consecutive questions with the same answer (multiple trues or multiple falses in a row).\n",
    "\n",
    "You are given a string answerKey, where answerKey[i] is the original answer to the ith question. In addition, you are given an integer k, the maximum number of times you may perform the following operation:\n",
    "\n",
    "Change the answer key for any question to 'T' or 'F' (i.e., set answerKey[i] to 'T' or 'F').\n",
    "Return the maximum number of consecutive 'T's or 'F's in the answer key after performing the operation at most k times.\n",
    "\n",
    " \n",
    "\n",
    "Example 1:\n",
    "\n",
    "Input: answerKey = \"TTFF\", k = 2\n",
    "Output: 4\n",
    "Explanation: We can replace both the 'F's with 'T's to make answerKey = \"TTTT\".\n",
    "There are four consecutive 'T's.\n",
    "Example 2:\n",
    "\n",
    "Input: answerKey = \"TFFT\", k = 1\n",
    "Output: 3\n",
    "Explanation: We can replace the first 'T' with an 'F' to make answerKey = \"FFFT\".\n",
    "Alternatively, we can replace the second 'T' with an 'F' to make answerKey = \"TFFF\".\n",
    "In both cases, there are three consecutive 'F's.\n",
    "Example 3:\n",
    "\n",
    "Input: answerKey = \"TTFTTFTT\", k = 1\n",
    "Output: 5\n",
    "Explanation: We can replace the first 'F' to make answerKey = \"TTTTTFTT\"\n",
    "Alternatively, we can replace the second 'F' to make answerKey = \"TTFTTTTT\". \n",
    "In both cases, there are five consecutive 'T's.\n",
    " \n",
    "\n",
    "Constraints:\n",
    "\n",
    "n == answerKey.length\n",
    "1 <= n <= 5 * 104\n",
    "answerKey[i] is either 'T' or 'F'\n",
    "1 <= k <= n"
   ]
  }
 ],
 "metadata": {
  "language_info": {
   "name": "python"
  },
  "orig_nbformat": 4
 },
 "nbformat": 4,
 "nbformat_minor": 2
}
